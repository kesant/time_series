{
 "cells": [
  {
   "cell_type": "markdown",
   "id": "8eac4001",
   "metadata": {},
   "source": [
    "# Manejo de marcas de tiempo faltantes\n",
    "\n",
    "En esta lección veremos las técnicas que podemos usar para el manejo de marcas de tiempo faltantes, es decir cuando la variable temporal de nuestra Serie de Tiempo contiene valores faltantes.\n",
    "\n",
    "El manejo de las marcas de tiempo faltantes **es el primer paso que siempre debemos llevar a cabo** antes de, por ejemplo, realizar el manejo de observaciones faltantes. Esto se debe a que sin la variable temporal completa no podremos posteriormente realizar las demás tareas de pre-procesamiento de datos.\n",
    "\n",
    "Además, es importante tener en cuenta que para realizar un manejo adecuado de datos faltantes (sean marcas de tiempo u observaciones) **es esencial tener un conocimiento detallado de los datos que estamos procesando**. Sin este conocimiento no sabremos qué decisión tomar en cada caso particular al momento de realizar el manejo."
   ]
  },
  {
   "cell_type": "markdown",
   "id": "73fbdba3",
   "metadata": {},
   "source": [
    "## 1. Manejo de marcas de tiempo faltantes\n",
    "\n",
    "Recordemos que en este caso las marcas de tiempo incompletas serán marcadas como *NaT*.\n",
    "\n",
    "El manejo de este tipo de marcas de tiempo faltantes dependerá de si hay o no correspondencia entre las marcas faltantes y la frecuencia de la serie."
   ]
  },
  {
   "cell_type": "markdown",
   "id": "ca7c71f1",
   "metadata": {},
   "source": [
    "### 1.1. Caso 1: NO hay correspondencia entre las marcas faltantes y la frecuencia de la serie\n",
    "\n",
    "Supongamos que tenemos esta Serie de Tiempo:\n",
    "\n",
    "|   Índice   | Observación |\n",
    "|:----------:|:-----------:|\n",
    "| 2020-01-01 | 0.25        |\n",
    "| 2020-01-02 | 3.27        |\n",
    "| NaT        | 0.9         |\n",
    "| NaT        | 4.3         |\n",
    "| NaT        | 1.3         |\n",
    "| 2020-01-04 | 2.92        |\n",
    "\n",
    "En este caso vemos que la Serie tiene una frecuencia diaria y que al parecer falta la marca correspondiente al 2020-01-03. Sin embargo, tenemos 3 observaciones que podrían pertenecer a esa marca.\n",
    "\n",
    "En este caso podemos eliminar los registros consecutivos con \"NaT\" y crear uno nuevo con la(s) fecha(s) faltantes. En este caso aparecerá una observación tipo \"NaN\" que deberá ser manejada usando alguna de las técnicas que veremos más adelante.\n",
    "\n",
    "Veamos en detalle esta situación:"
   ]
  },
  {
   "cell_type": "code",
   "execution_count": 1,
   "id": "e5dc7a2f",
   "metadata": {},
   "outputs": [
    {
     "data": {
      "text/html": [
       "<div>\n",
       "<style scoped>\n",
       "    .dataframe tbody tr th:only-of-type {\n",
       "        vertical-align: middle;\n",
       "    }\n",
       "\n",
       "    .dataframe tbody tr th {\n",
       "        vertical-align: top;\n",
       "    }\n",
       "\n",
       "    .dataframe thead th {\n",
       "        text-align: right;\n",
       "    }\n",
       "</style>\n",
       "<table border=\"1\" class=\"dataframe\">\n",
       "  <thead>\n",
       "    <tr style=\"text-align: right;\">\n",
       "      <th></th>\n",
       "      <th>Observación</th>\n",
       "    </tr>\n",
       "  </thead>\n",
       "  <tbody>\n",
       "    <tr>\n",
       "      <th>2020-01-01</th>\n",
       "      <td>0.25</td>\n",
       "    </tr>\n",
       "    <tr>\n",
       "      <th>2020-01-02</th>\n",
       "      <td>3.27</td>\n",
       "    </tr>\n",
       "    <tr>\n",
       "      <th>NaT</th>\n",
       "      <td>0.90</td>\n",
       "    </tr>\n",
       "    <tr>\n",
       "      <th>NaT</th>\n",
       "      <td>4.30</td>\n",
       "    </tr>\n",
       "    <tr>\n",
       "      <th>NaT</th>\n",
       "      <td>1.30</td>\n",
       "    </tr>\n",
       "    <tr>\n",
       "      <th>2020-01-04</th>\n",
       "      <td>2.92</td>\n",
       "    </tr>\n",
       "  </tbody>\n",
       "</table>\n",
       "</div>"
      ],
      "text/plain": [
       "            Observación\n",
       "2020-01-01         0.25\n",
       "2020-01-02         3.27\n",
       "NaT                0.90\n",
       "NaT                4.30\n",
       "NaT                1.30\n",
       "2020-01-04         2.92"
      ]
     },
     "execution_count": 1,
     "metadata": {},
     "output_type": "execute_result"
    }
   ],
   "source": [
    "import pandas as pd\n",
    "\n",
    "# Crear el DataFrame con múltiples marcas faltantes\n",
    "ind = ['2020-01-01', '2020-01-02', 'NaT', 'NaT', 'NaT', '2020-01-04']\n",
    "obs = [0.25, 3.27, 0.9, 4.3, 1.3, 2.92]\n",
    "ind = pd.to_datetime(ind)\n",
    "df = pd.DataFrame(obs, index=ind, columns=['Observación'])\n",
    "df"
   ]
  },
  {
   "cell_type": "code",
   "execution_count": 2,
   "id": "471ddd83",
   "metadata": {},
   "outputs": [
    {
     "data": {
      "text/html": [
       "<div>\n",
       "<style scoped>\n",
       "    .dataframe tbody tr th:only-of-type {\n",
       "        vertical-align: middle;\n",
       "    }\n",
       "\n",
       "    .dataframe tbody tr th {\n",
       "        vertical-align: top;\n",
       "    }\n",
       "\n",
       "    .dataframe thead th {\n",
       "        text-align: right;\n",
       "    }\n",
       "</style>\n",
       "<table border=\"1\" class=\"dataframe\">\n",
       "  <thead>\n",
       "    <tr style=\"text-align: right;\">\n",
       "      <th></th>\n",
       "      <th>Observación</th>\n",
       "    </tr>\n",
       "  </thead>\n",
       "  <tbody>\n",
       "    <tr>\n",
       "      <th>2020-01-01</th>\n",
       "      <td>0.25</td>\n",
       "    </tr>\n",
       "    <tr>\n",
       "      <th>2020-01-02</th>\n",
       "      <td>3.27</td>\n",
       "    </tr>\n",
       "    <tr>\n",
       "      <th>2020-01-04</th>\n",
       "      <td>2.92</td>\n",
       "    </tr>\n",
       "  </tbody>\n",
       "</table>\n",
       "</div>"
      ],
      "text/plain": [
       "            Observación\n",
       "2020-01-01         0.25\n",
       "2020-01-02         3.27\n",
       "2020-01-04         2.92"
      ]
     },
     "execution_count": 2,
     "metadata": {},
     "output_type": "execute_result"
    }
   ],
   "source": [
    "# Eliminar registros cuyo índice sea \"NaT\"\n",
    "# Esto equivale a preservar las filas cuyo índice NO SEA \"NaT\"\n",
    "df_clean = df[pd.notna(df.index)]\n",
    "df_clean"
   ]
  },
  {
   "cell_type": "code",
   "execution_count": 3,
   "id": "b2eea403",
   "metadata": {},
   "outputs": [
    {
     "name": "stdout",
     "output_type": "stream",
     "text": [
      "DatetimeIndex(['2020-01-01', '2020-01-02', '2020-01-03', '2020-01-04'], dtype='datetime64[ns]', freq='D')\n",
      "DataFrame original:\n",
      "            Observación\n",
      "2020-01-01         0.25\n",
      "2020-01-02         3.27\n",
      "NaT                0.90\n",
      "NaT                4.30\n",
      "NaT                1.30\n",
      "2020-01-04         2.92\n",
      "==============================\n",
      "DataFrame pre-procesado:\n",
      "            Observación\n",
      "2020-01-01         0.25\n",
      "2020-01-02         3.27\n",
      "2020-01-03          NaN\n",
      "2020-01-04         2.92\n"
     ]
    }
   ],
   "source": [
    "# Reindexar\n",
    "\n",
    "# Ordenar el DataFrame original de manera ascendente según su índice (por precaución)\n",
    "df_clean = df_clean.sort_index()\n",
    "\n",
    "# Definir rango completo\n",
    "rango_completo = pd.date_range(start=df_clean.index.min(), end=df_clean.index.max(), freq='D')\n",
    "print(rango_completo)\n",
    "\n",
    "# Reindexar con base en el rango completo\n",
    "df_clean = df_clean.reindex(rango_completo)\n",
    "\n",
    "print('DataFrame original:')\n",
    "print(df)\n",
    "print('='*30)\n",
    "print('DataFrame pre-procesado:')\n",
    "print(df_clean)"
   ]
  },
  {
   "cell_type": "markdown",
   "id": "eb409a50",
   "metadata": {},
   "source": [
    "### 1.2. Caso 2: hay correspondencia entre las marcas faltantes y la frecuencia de la serie\n",
    "\n",
    "Supongamos que tenemos esta Serie de Tiempo:\n",
    "\n",
    "|   Índice   | Observación |\n",
    "|:----------:|:-----------:|\n",
    "| 2020-01-01 | 0.25        |\n",
    "| 2020-01-02 | 3.27        |\n",
    "| NaT        | 0.9         |\n",
    "| 2020-01-04 | 4.3         |\n",
    "| NaT        | 1.3         |\n",
    "| 2020-01-06 | 2.92        |\n",
    "\n",
    "En este caso vemos que la Serie tiene una frecuencia diaria y que al parecer faltan las marcas correspondiente al 2020-01-03 y 2020-01-05, para cada una de las cuales tenemos exactamente 1 observación.\n",
    "\n",
    "En este caso podemos:\n",
    "\n",
    "1. Definir un nuevo índice con el rango específico de fechas (inicio-final)\n",
    "2. Fijar este nuevo índice como índice del *DataFrame* existente\n",
    "\n",
    "Veamos este ejemplo:"
   ]
  },
  {
   "cell_type": "code",
   "execution_count": 4,
   "id": "2b9895a4",
   "metadata": {},
   "outputs": [
    {
     "data": {
      "text/html": [
       "<div>\n",
       "<style scoped>\n",
       "    .dataframe tbody tr th:only-of-type {\n",
       "        vertical-align: middle;\n",
       "    }\n",
       "\n",
       "    .dataframe tbody tr th {\n",
       "        vertical-align: top;\n",
       "    }\n",
       "\n",
       "    .dataframe thead th {\n",
       "        text-align: right;\n",
       "    }\n",
       "</style>\n",
       "<table border=\"1\" class=\"dataframe\">\n",
       "  <thead>\n",
       "    <tr style=\"text-align: right;\">\n",
       "      <th></th>\n",
       "      <th>Observación</th>\n",
       "    </tr>\n",
       "  </thead>\n",
       "  <tbody>\n",
       "    <tr>\n",
       "      <th>2020-01-01</th>\n",
       "      <td>0.25</td>\n",
       "    </tr>\n",
       "    <tr>\n",
       "      <th>2020-01-02</th>\n",
       "      <td>3.27</td>\n",
       "    </tr>\n",
       "    <tr>\n",
       "      <th>NaT</th>\n",
       "      <td>0.90</td>\n",
       "    </tr>\n",
       "    <tr>\n",
       "      <th>2020-01-04</th>\n",
       "      <td>4.30</td>\n",
       "    </tr>\n",
       "    <tr>\n",
       "      <th>NaT</th>\n",
       "      <td>1.30</td>\n",
       "    </tr>\n",
       "    <tr>\n",
       "      <th>2020-01-06</th>\n",
       "      <td>2.92</td>\n",
       "    </tr>\n",
       "  </tbody>\n",
       "</table>\n",
       "</div>"
      ],
      "text/plain": [
       "            Observación\n",
       "2020-01-01         0.25\n",
       "2020-01-02         3.27\n",
       "NaT                0.90\n",
       "2020-01-04         4.30\n",
       "NaT                1.30\n",
       "2020-01-06         2.92"
      ]
     },
     "execution_count": 4,
     "metadata": {},
     "output_type": "execute_result"
    }
   ],
   "source": [
    "# Crear el DataFrame con marcas faltantes\n",
    "ind = ['2020-01-01', '2020-01-02', 'NaT', '2020-01-04', 'NaT', '2020-01-06']\n",
    "obs = [0.25, 3.27, 0.9, 4.3, 1.3, 2.92]\n",
    "ind = pd.to_datetime(ind)\n",
    "df = pd.DataFrame(obs, index=ind, columns=['Observación'])\n",
    "df"
   ]
  },
  {
   "cell_type": "code",
   "execution_count": 5,
   "id": "fc24cdc4",
   "metadata": {},
   "outputs": [
    {
     "data": {
      "text/plain": [
       "DatetimeIndex(['2020-01-01', '2020-01-02', '2020-01-03', '2020-01-04',\n",
       "               '2020-01-05', '2020-01-06'],\n",
       "              dtype='datetime64[ns]', freq='D')"
      ]
     },
     "execution_count": 5,
     "metadata": {},
     "output_type": "execute_result"
    }
   ],
   "source": [
    "# 1. Crear un rango completo de fechas\n",
    "rango_completo = pd.date_range(start=df.index.min(), end=df.index.max(), freq='D')\n",
    "rango_completo"
   ]
  },
  {
   "cell_type": "code",
   "execution_count": 6,
   "id": "38563835",
   "metadata": {},
   "outputs": [
    {
     "name": "stdout",
     "output_type": "stream",
     "text": [
      "Dataframe original: \n",
      "            Observación\n",
      "2020-01-01         0.25\n",
      "2020-01-02         3.27\n",
      "NaT                0.90\n",
      "2020-01-04         4.30\n",
      "NaT                1.30\n",
      "2020-01-06         2.92\n",
      "==============================\n",
      "Dataframe pre-procesado: \n",
      "            Observación\n",
      "2020-01-01         0.25\n",
      "2020-01-02         3.27\n",
      "2020-01-03         0.90\n",
      "2020-01-04         4.30\n",
      "2020-01-05         1.30\n",
      "2020-01-06         2.92\n"
     ]
    }
   ],
   "source": [
    "# 2. Fijar el nuevo índice como índice del DataFrame existente\n",
    "df_clean = df.set_index(rango_completo)\n",
    "\n",
    "print('Dataframe original: ')\n",
    "print(df)\n",
    "print('='*30)\n",
    "print('Dataframe pre-procesado: ')\n",
    "print(df_clean)"
   ]
  },
  {
   "cell_type": "markdown",
   "id": "0c833a53",
   "metadata": {},
   "source": [
    "## 2. Manejo de marcas de tiempo faltantes \"ocultas\"\n",
    "\n",
    "Recordemos que en este caso ninguna marca de tiempo aparece etiquetada como *NaT* y sin embargo tendremos marcas faltantes.\n",
    "\n",
    "Por ejemplo el *DataFrame*:\n",
    "\n",
    "|   Índice   | Observación |\n",
    "|:----------:|:-----------:|\n",
    "| 2020-01-01 | 0.25        |\n",
    "| 2020-01-02 | 3.27        |\n",
    "| 2020-01-04 | 2.92        |\n",
    "\n",
    "No contiene *NaT*s en su índice y sin embargo falta el registro correspondiente a la fecha 2022-01-03.\n",
    "\n",
    "En este caso podemos reindexar la Serie de Tiempo teniendo en cuenta que **se agregarán tantos NaN a las observaciones como elementos se añadan al índice original**.\n",
    "\n",
    "Veamos esta implementación:"
   ]
  },
  {
   "cell_type": "code",
   "execution_count": 7,
   "id": "4f60ae8e",
   "metadata": {},
   "outputs": [
    {
     "data": {
      "text/html": [
       "<div>\n",
       "<style scoped>\n",
       "    .dataframe tbody tr th:only-of-type {\n",
       "        vertical-align: middle;\n",
       "    }\n",
       "\n",
       "    .dataframe tbody tr th {\n",
       "        vertical-align: top;\n",
       "    }\n",
       "\n",
       "    .dataframe thead th {\n",
       "        text-align: right;\n",
       "    }\n",
       "</style>\n",
       "<table border=\"1\" class=\"dataframe\">\n",
       "  <thead>\n",
       "    <tr style=\"text-align: right;\">\n",
       "      <th></th>\n",
       "      <th>Observación</th>\n",
       "    </tr>\n",
       "  </thead>\n",
       "  <tbody>\n",
       "    <tr>\n",
       "      <th>2020-01-01</th>\n",
       "      <td>0.25</td>\n",
       "    </tr>\n",
       "    <tr>\n",
       "      <th>2020-01-02</th>\n",
       "      <td>3.27</td>\n",
       "    </tr>\n",
       "    <tr>\n",
       "      <th>2020-01-04</th>\n",
       "      <td>2.92</td>\n",
       "    </tr>\n",
       "  </tbody>\n",
       "</table>\n",
       "</div>"
      ],
      "text/plain": [
       "            Observación\n",
       "2020-01-01         0.25\n",
       "2020-01-02         3.27\n",
       "2020-01-04         2.92"
      ]
     },
     "execution_count": 7,
     "metadata": {},
     "output_type": "execute_result"
    }
   ],
   "source": [
    "# Crear el DataFrame con marcas faltantes\n",
    "ind = ['2020-01-01', '2020-01-02', '2020-01-04']\n",
    "obs = [0.25, 3.27, 2.92]\n",
    "ind = pd.to_datetime(ind)\n",
    "df = pd.DataFrame(obs, index=ind, columns=['Observación'])\n",
    "df"
   ]
  },
  {
   "cell_type": "code",
   "execution_count": 8,
   "id": "8ded980a",
   "metadata": {},
   "outputs": [
    {
     "name": "stdout",
     "output_type": "stream",
     "text": [
      "Dataframe original: \n",
      "            Observación\n",
      "2020-01-01         0.25\n",
      "2020-01-02         3.27\n",
      "2020-01-04         2.92\n",
      "==============================\n",
      "Dataframe pre-procesado: \n",
      "            Observación\n",
      "2020-01-01         0.25\n",
      "2020-01-02         3.27\n",
      "2020-01-03          NaN\n",
      "2020-01-04         2.92\n"
     ]
    }
   ],
   "source": [
    "# Ordenar la serie de manera ascendente según su índice (por precaución)\n",
    "df_clean = df.sort_index()\n",
    "\n",
    "# Crear nuevo índice\n",
    "rango_completo = pd.date_range(start=df_clean.index.min(), end=df_clean.index.max(), freq='D')\n",
    "\n",
    "# Reindexar\n",
    "df_clean = df_clean.reindex(rango_completo)\n",
    "\n",
    "print('Dataframe original: ')\n",
    "print(df)\n",
    "print('='*30)\n",
    "print('Dataframe pre-procesado: ')\n",
    "print(df_clean)"
   ]
  },
  {
   "cell_type": "markdown",
   "id": "a9c680c3",
   "metadata": {},
   "source": [
    "Vemos que en el caso anterior tan sólo había una marca faltante entre las fechas 2020-01-02 y 2020-01-04 y por tanto se agregó tan sólo una observación (NaN) en la nueva Serie de Tiempo.\n",
    "\n",
    "Sin embargo, **este método no es aconsejable cuando tenemos bloques de tiempo demasiado grandes en comparación con la frecuencia de la Serie**.\n",
    "\n",
    "Por ejemplo, si ahora la Serie de Tiempo es de la forma:\n",
    "\n",
    "|   Índice   | Observación |\n",
    "|:----------:|:-----------:|\n",
    "| 2020-01-01 | 0.25        |\n",
    "| 2020-01-02 | 3.27        |\n",
    "| 2020-01-08 | 2.92        |\n",
    "\n",
    "Vemos que entre 2020-01-02 y 2020-01-08 ahora tendremos 5 marcas de tiempo faltantes. Por tanto, si usamos el método anterior añadiremos 5 observaciones tipo NaN que más adelante tendremos que manejar.\n",
    "\n",
    "Esto no es recomendable porque tendremos un exceso de valores NaN por manejar para los cuales no tenemos suficiente información que nos permita completarlos.\n",
    "\n",
    "En este caso se sugiere adquirir nuevamente los datos (de ser posible)."
   ]
  },
  {
   "cell_type": "markdown",
   "id": "57b87947",
   "metadata": {},
   "source": [
    "## 3. Ejemplo práctico\n",
    "\n",
    "> Realizar el manejo de marcas de tiempo faltantes en el set de datos *clicks_faltantes_marcas.csv*\n",
    "\n",
    "Comencemos leyendo el set de datos:"
   ]
  },
  {
   "cell_type": "code",
   "execution_count": 9,
   "id": "eb9d5221",
   "metadata": {},
   "outputs": [
    {
     "name": "stderr",
     "output_type": "stream",
     "text": [
      "C:\\Users\\ASUS TUF\\AppData\\Local\\Temp\\ipykernel_25928\\1401911102.py:4: UserWarning: Could not infer format, so each element will be parsed individually, falling back to `dateutil`. To ensure parsing is consistent and as-expected, please specify a format.\n",
      "  df = pd.read_csv(RUTA + 'clicks_faltantes_marcas.csv',\n"
     ]
    },
    {
     "data": {
      "text/html": [
       "<div>\n",
       "<style scoped>\n",
       "    .dataframe tbody tr th:only-of-type {\n",
       "        vertical-align: middle;\n",
       "    }\n",
       "\n",
       "    .dataframe tbody tr th {\n",
       "        vertical-align: top;\n",
       "    }\n",
       "\n",
       "    .dataframe thead th {\n",
       "        text-align: right;\n",
       "    }\n",
       "</style>\n",
       "<table border=\"1\" class=\"dataframe\">\n",
       "  <thead>\n",
       "    <tr style=\"text-align: right;\">\n",
       "      <th></th>\n",
       "      <th>precio</th>\n",
       "      <th>ubicación</th>\n",
       "      <th>clicks</th>\n",
       "    </tr>\n",
       "    <tr>\n",
       "      <th>fecha</th>\n",
       "      <th></th>\n",
       "      <th></th>\n",
       "      <th></th>\n",
       "    </tr>\n",
       "  </thead>\n",
       "  <tbody>\n",
       "    <tr>\n",
       "      <th>2008-04-01</th>\n",
       "      <td>43.155647</td>\n",
       "      <td>2</td>\n",
       "      <td>18784.0</td>\n",
       "    </tr>\n",
       "    <tr>\n",
       "      <th>2008-04-02</th>\n",
       "      <td>43.079056</td>\n",
       "      <td>1</td>\n",
       "      <td>24738.0</td>\n",
       "    </tr>\n",
       "    <tr>\n",
       "      <th>NaT</th>\n",
       "      <td>43.842609</td>\n",
       "      <td>2</td>\n",
       "      <td>15209.0</td>\n",
       "    </tr>\n",
       "    <tr>\n",
       "      <th>2008-04-04</th>\n",
       "      <td>43.382794</td>\n",
       "      <td>2</td>\n",
       "      <td>14320.0</td>\n",
       "    </tr>\n",
       "    <tr>\n",
       "      <th>2008-04-05</th>\n",
       "      <td>43.941176</td>\n",
       "      <td>1</td>\n",
       "      <td>11974.0</td>\n",
       "    </tr>\n",
       "    <tr>\n",
       "      <th>...</th>\n",
       "      <td>...</td>\n",
       "      <td>...</td>\n",
       "      <td>...</td>\n",
       "    </tr>\n",
       "    <tr>\n",
       "      <th>2008-08-09</th>\n",
       "      <td>44.182033</td>\n",
       "      <td>1</td>\n",
       "      <td>6716.0</td>\n",
       "    </tr>\n",
       "    <tr>\n",
       "      <th>2008-08-10</th>\n",
       "      <td>43.608260</td>\n",
       "      <td>1</td>\n",
       "      <td>9523.0</td>\n",
       "    </tr>\n",
       "    <tr>\n",
       "      <th>2008-08-11</th>\n",
       "      <td>43.553363</td>\n",
       "      <td>1</td>\n",
       "      <td>8881.0</td>\n",
       "    </tr>\n",
       "    <tr>\n",
       "      <th>2008-08-12</th>\n",
       "      <td>44.500469</td>\n",
       "      <td>1</td>\n",
       "      <td>7272.0</td>\n",
       "    </tr>\n",
       "    <tr>\n",
       "      <th>2008-08-13</th>\n",
       "      <td>42.751295</td>\n",
       "      <td>1</td>\n",
       "      <td>2922.0</td>\n",
       "    </tr>\n",
       "  </tbody>\n",
       "</table>\n",
       "<p>134 rows × 3 columns</p>\n",
       "</div>"
      ],
      "text/plain": [
       "               precio  ubicación   clicks\n",
       "fecha                                    \n",
       "2008-04-01  43.155647          2  18784.0\n",
       "2008-04-02  43.079056          1  24738.0\n",
       "NaT         43.842609          2  15209.0\n",
       "2008-04-04  43.382794          2  14320.0\n",
       "2008-04-05  43.941176          1  11974.0\n",
       "...               ...        ...      ...\n",
       "2008-08-09  44.182033          1   6716.0\n",
       "2008-08-10  43.608260          1   9523.0\n",
       "2008-08-11  43.553363          1   8881.0\n",
       "2008-08-12  44.500469          1   7272.0\n",
       "2008-08-13  42.751295          1   2922.0\n",
       "\n",
       "[134 rows x 3 columns]"
      ]
     },
     "execution_count": 9,
     "metadata": {},
     "output_type": "execute_result"
    }
   ],
   "source": [
    "# Leer dataset\n",
    "RUTA = '../datasets/missing_values/'\n",
    "\n",
    "df = pd.read_csv(RUTA + 'clicks_faltantes_marcas.csv',\n",
    "                 parse_dates = ['fecha'],\n",
    "                 index_col = ['fecha'])\n",
    "df"
   ]
  },
  {
   "cell_type": "markdown",
   "id": "7779a520",
   "metadata": {},
   "source": [
    "Y en primer lugar determinemos cuántas marcas *NaT* tenemos:"
   ]
  },
  {
   "cell_type": "code",
   "execution_count": 10,
   "id": "50d4d31c",
   "metadata": {},
   "outputs": [
    {
     "data": {
      "text/plain": [
       "2"
      ]
     },
     "execution_count": 10,
     "metadata": {},
     "output_type": "execute_result"
    }
   ],
   "source": [
    "df.index.isna().sum()"
   ]
  },
  {
   "cell_type": "markdown",
   "id": "b7854a03",
   "metadata": {},
   "source": [
    "Veamos dónde deberían estar ubicadas idealmente:"
   ]
  },
  {
   "cell_type": "code",
   "execution_count": 11,
   "id": "d6f9cc17",
   "metadata": {},
   "outputs": [
    {
     "data": {
      "text/plain": [
       "DatetimeIndex(['2008-04-03', '2008-04-07', '2008-04-09'], dtype='datetime64[ns]', freq=None)"
      ]
     },
     "execution_count": 11,
     "metadata": {},
     "output_type": "execute_result"
    }
   ],
   "source": [
    "# DataFrame sin marcas NaT ordenado de manera ascendente\n",
    "df_sin_nat = df[pd.notna(df.index)].sort_index()\n",
    "\n",
    "# Rango de fechas ideal\n",
    "rango_fechas = pd.date_range(start=df_sin_nat.index.min(), end=df_sin_nat.index.max(), freq='D')\n",
    "\n",
    "# Diferencia entre el rango de fechas ideal y el índice de la Serie de Tiempo\n",
    "rango_fechas.difference(df_sin_nat.index)"
   ]
  },
  {
   "cell_type": "markdown",
   "id": "5694704e",
   "metadata": {},
   "source": [
    "Vemos que en realidad son 3 las marcas de tiempo faltantes, aunque el uso de `clicks_df.index.isna().sum()` nos indicaba que eran 2.\n",
    "\n",
    "Veamos en detalle esta porción de la Serie de Tiempo:"
   ]
  },
  {
   "cell_type": "code",
   "execution_count": 12,
   "id": "cf45bbef",
   "metadata": {},
   "outputs": [
    {
     "data": {
      "text/html": [
       "<div>\n",
       "<style scoped>\n",
       "    .dataframe tbody tr th:only-of-type {\n",
       "        vertical-align: middle;\n",
       "    }\n",
       "\n",
       "    .dataframe tbody tr th {\n",
       "        vertical-align: top;\n",
       "    }\n",
       "\n",
       "    .dataframe thead th {\n",
       "        text-align: right;\n",
       "    }\n",
       "</style>\n",
       "<table border=\"1\" class=\"dataframe\">\n",
       "  <thead>\n",
       "    <tr style=\"text-align: right;\">\n",
       "      <th></th>\n",
       "      <th>precio</th>\n",
       "      <th>ubicación</th>\n",
       "      <th>clicks</th>\n",
       "    </tr>\n",
       "    <tr>\n",
       "      <th>fecha</th>\n",
       "      <th></th>\n",
       "      <th></th>\n",
       "      <th></th>\n",
       "    </tr>\n",
       "  </thead>\n",
       "  <tbody>\n",
       "    <tr>\n",
       "      <th>2008-04-01</th>\n",
       "      <td>43.155647</td>\n",
       "      <td>2</td>\n",
       "      <td>18784.0</td>\n",
       "    </tr>\n",
       "    <tr>\n",
       "      <th>2008-04-02</th>\n",
       "      <td>43.079056</td>\n",
       "      <td>1</td>\n",
       "      <td>24738.0</td>\n",
       "    </tr>\n",
       "    <tr>\n",
       "      <th>NaT</th>\n",
       "      <td>43.842609</td>\n",
       "      <td>2</td>\n",
       "      <td>15209.0</td>\n",
       "    </tr>\n",
       "    <tr>\n",
       "      <th>2008-04-04</th>\n",
       "      <td>43.382794</td>\n",
       "      <td>2</td>\n",
       "      <td>14320.0</td>\n",
       "    </tr>\n",
       "    <tr>\n",
       "      <th>2008-04-05</th>\n",
       "      <td>43.941176</td>\n",
       "      <td>1</td>\n",
       "      <td>11974.0</td>\n",
       "    </tr>\n",
       "    <tr>\n",
       "      <th>2008-04-06</th>\n",
       "      <td>44.403936</td>\n",
       "      <td>1</td>\n",
       "      <td>11007.0</td>\n",
       "    </tr>\n",
       "    <tr>\n",
       "      <th>NaT</th>\n",
       "      <td>43.995888</td>\n",
       "      <td>2</td>\n",
       "      <td>15214.0</td>\n",
       "    </tr>\n",
       "    <tr>\n",
       "      <th>2008-04-08</th>\n",
       "      <td>43.373773</td>\n",
       "      <td>1</td>\n",
       "      <td>11333.0</td>\n",
       "    </tr>\n",
       "    <tr>\n",
       "      <th>2008-04-10</th>\n",
       "      <td>43.154738</td>\n",
       "      <td>5</td>\n",
       "      <td>15677.0</td>\n",
       "    </tr>\n",
       "    <tr>\n",
       "      <th>2008-04-11</th>\n",
       "      <td>42.921659</td>\n",
       "      <td>2</td>\n",
       "      <td>10792.0</td>\n",
       "    </tr>\n",
       "  </tbody>\n",
       "</table>\n",
       "</div>"
      ],
      "text/plain": [
       "               precio  ubicación   clicks\n",
       "fecha                                    \n",
       "2008-04-01  43.155647          2  18784.0\n",
       "2008-04-02  43.079056          1  24738.0\n",
       "NaT         43.842609          2  15209.0\n",
       "2008-04-04  43.382794          2  14320.0\n",
       "2008-04-05  43.941176          1  11974.0\n",
       "2008-04-06  44.403936          1  11007.0\n",
       "NaT         43.995888          2  15214.0\n",
       "2008-04-08  43.373773          1  11333.0\n",
       "2008-04-10  43.154738          5  15677.0\n",
       "2008-04-11  42.921659          2  10792.0"
      ]
     },
     "execution_count": 12,
     "metadata": {},
     "output_type": "execute_result"
    }
   ],
   "source": [
    "df.iloc[0:10,:]"
   ]
  },
  {
   "cell_type": "markdown",
   "id": "7bc10e88",
   "metadata": {},
   "source": [
    "En este caso vemos que las marcas correspondientes a 2008-04-03 y 2008-04-07 están marcadas como *NaT*. Sin embargo hay una tercera marca faltante que está oculta y que corresponde a 2008-04-09.\n",
    "\n",
    "Es decir que tenemos dos situaciones en este caso:\n",
    "\n",
    "- 2 marcas faltantes tipo \"NaT\"\n",
    "- 1 marca faltante \"oculta\"\n",
    "\n",
    "Posibles soluciones:\n",
    "\n",
    "1. Si intentamos reindexar la serie con el rango de fechas ideal aparecerá un error pues tendremos 2 marcas \"NaT\"\n",
    "2. Si intentamos fijar el índice de la serie como el rango de fechas ideal aparecerá un error pues este rango ideal tendrá 1 registro adicional (correspondiente a la marca oculta faltante)\n",
    "\n",
    "Así que en este caso podríamos:\n",
    "\n",
    "1. Crear el índice ideal **eliminando la fecha correspondiente a 2008-04-09 (marca oculta)**\n",
    "2. Usar el resultado de (1) para fijar el nuevo índice del *DataFrame*. En este punto ya habremos completado las marcas \"NaT\"\n",
    "3. Crear el índice ideal incluyendo la marca oculta (2008-04-09) y reindexar el *DataFrame* obtenido en (2). En este punto habremos completado la marca oculta y habremos agregado tres observación *NaN* en la fila correspondiente.\n",
    "\n",
    "Veamos esta implementación:"
   ]
  },
  {
   "cell_type": "code",
   "execution_count": 13,
   "id": "9442641c",
   "metadata": {},
   "outputs": [
    {
     "data": {
      "text/plain": [
       "DatetimeIndex(['2008-04-01', '2008-04-02', '2008-04-03', '2008-04-04',\n",
       "               '2008-04-05', '2008-04-06', '2008-04-07', '2008-04-08',\n",
       "               '2008-04-10', '2008-04-11',\n",
       "               ...\n",
       "               '2008-08-04', '2008-08-05', '2008-08-06', '2008-08-07',\n",
       "               '2008-08-08', '2008-08-09', '2008-08-10', '2008-08-11',\n",
       "               '2008-08-12', '2008-08-13'],\n",
       "              dtype='datetime64[ns]', length=134, freq=None)"
      ]
     },
     "execution_count": 13,
     "metadata": {},
     "output_type": "execute_result"
    }
   ],
   "source": [
    "# 1. Crear el índice ideal eliminando la fecha correspondiente a 2008-04-09 (marca oculta)\n",
    "\n",
    "ind_ideal = pd.date_range(start=df_sin_nat.index.min(), end=df_sin_nat.index.max(), freq='D')\n",
    "ind_filtrado = ind_ideal[ind_ideal != '2008-04-09']\n",
    "ind_filtrado"
   ]
  },
  {
   "cell_type": "code",
   "execution_count": 14,
   "id": "2c29a504",
   "metadata": {},
   "outputs": [
    {
     "name": "stdout",
     "output_type": "stream",
     "text": [
      "Dataframe original (posiciones 0:10):\n",
      "               precio  ubicación   clicks\n",
      "fecha                                    \n",
      "2008-04-01  43.155647          2  18784.0\n",
      "2008-04-02  43.079056          1  24738.0\n",
      "NaT         43.842609          2  15209.0\n",
      "2008-04-04  43.382794          2  14320.0\n",
      "2008-04-05  43.941176          1  11974.0\n",
      "2008-04-06  44.403936          1  11007.0\n",
      "NaT         43.995888          2  15214.0\n",
      "2008-04-08  43.373773          1  11333.0\n",
      "2008-04-10  43.154738          5  15677.0\n",
      "2008-04-11  42.921659          2  10792.0\n",
      "==============================\n",
      "Dataframe preprocesado (posiciones 0:10):\n",
      "               precio  ubicación   clicks\n",
      "2008-04-01  43.155647          2  18784.0\n",
      "2008-04-02  43.079056          1  24738.0\n",
      "2008-04-03  43.842609          2  15209.0\n",
      "2008-04-04  43.382794          2  14320.0\n",
      "2008-04-05  43.941176          1  11974.0\n",
      "2008-04-06  44.403936          1  11007.0\n",
      "2008-04-07  43.995888          2  15214.0\n",
      "2008-04-08  43.373773          1  11333.0\n",
      "2008-04-10  43.154738          5  15677.0\n",
      "2008-04-11  42.921659          2  10792.0\n"
     ]
    }
   ],
   "source": [
    "# 2. Usar el resultado de (1) para fijar el nuevo índice del DataFrame.\n",
    "# En este punto ya habremos completado las marcas \"NaT\"\n",
    "\n",
    "df_clean = df.set_index(ind_filtrado)\n",
    "\n",
    "print('Dataframe original (posiciones 0:10):')\n",
    "print(df.iloc[0:10,:])\n",
    "print('='*30)\n",
    "print('Dataframe preprocesado (posiciones 0:10):')\n",
    "print(df_clean.iloc[0:10,:])"
   ]
  },
  {
   "cell_type": "code",
   "execution_count": 15,
   "id": "30524980",
   "metadata": {},
   "outputs": [
    {
     "name": "stdout",
     "output_type": "stream",
     "text": [
      "Dataframe original (posiciones 0:10):\n",
      "               precio  ubicación   clicks\n",
      "fecha                                    \n",
      "2008-04-01  43.155647          2  18784.0\n",
      "2008-04-02  43.079056          1  24738.0\n",
      "NaT         43.842609          2  15209.0\n",
      "2008-04-04  43.382794          2  14320.0\n",
      "2008-04-05  43.941176          1  11974.0\n",
      "2008-04-06  44.403936          1  11007.0\n",
      "NaT         43.995888          2  15214.0\n",
      "2008-04-08  43.373773          1  11333.0\n",
      "2008-04-10  43.154738          5  15677.0\n",
      "2008-04-11  42.921659          2  10792.0\n",
      "==============================\n",
      "Dataframe preprocesado (posiciones 0:10):\n",
      "               precio  ubicación   clicks\n",
      "2008-04-01  43.155647        2.0  18784.0\n",
      "2008-04-02  43.079056        1.0  24738.0\n",
      "2008-04-03  43.842609        2.0  15209.0\n",
      "2008-04-04  43.382794        2.0  14320.0\n",
      "2008-04-05  43.941176        1.0  11974.0\n",
      "2008-04-06  44.403936        1.0  11007.0\n",
      "2008-04-07  43.995888        2.0  15214.0\n",
      "2008-04-08  43.373773        1.0  11333.0\n",
      "2008-04-09        NaN        NaN      NaN\n",
      "2008-04-10  43.154738        5.0  15677.0\n"
     ]
    }
   ],
   "source": [
    "# 3. Crear el índice ideal incluyendo la marca oculta (2008-04-09) y reindexar\n",
    "# el DataFrame obtenido en (2). En este punto habremos completado la marca oculta\n",
    "# y habremos agregado tres observaciones NaN en la fila correspondiente.\n",
    "\n",
    "# El índice ideal está en el arreglo \"ind_ideal\". Reindexación:\n",
    "df_clean = df_clean.reindex(ind_ideal)\n",
    "\n",
    "print('Dataframe original (posiciones 0:10):')\n",
    "print(df.iloc[0:10,:])\n",
    "print('='*30)\n",
    "print('Dataframe preprocesado (posiciones 0:10):')\n",
    "print(df_clean.iloc[0:10,:])"
   ]
  },
  {
   "cell_type": "markdown",
   "id": "25773996",
   "metadata": {},
   "source": [
    "Y vemos que este último paso del pre-procesamiento ha generado 3 observaciones *NaN* en la fecha correspondiente a 2008-04-09. Estas tres observaciones faltantes tendremos que manejarlas usando alguna de las técnicas que veremos en las próximas lecciones."
   ]
  },
  {
   "cell_type": "code",
   "execution_count": null,
   "id": "740eabdb",
   "metadata": {},
   "outputs": [],
   "source": []
  }
 ],
 "metadata": {
  "kernelspec": {
   "display_name": "proyecto_machin_learning",
   "language": "python",
   "name": "python3"
  },
  "language_info": {
   "codemirror_mode": {
    "name": "ipython",
    "version": 3
   },
   "file_extension": ".py",
   "mimetype": "text/x-python",
   "name": "python",
   "nbconvert_exporter": "python",
   "pygments_lexer": "ipython3",
   "version": "3.12.3"
  }
 },
 "nbformat": 4,
 "nbformat_minor": 5
}
