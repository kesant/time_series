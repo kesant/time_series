{
 "cells": [
  {
   "cell_type": "markdown",
   "id": "8eac4001",
   "metadata": {},
   "source": [
    "# Los tipos de datos faltantes en Series de Tiempo\n",
    "\n",
    "Las técnicas de manejo de datos faltantes dependerán del tipo de datos faltantes que tengamos en nuestra Serie de Tiempo.\n",
    "\n",
    "Y en esencia podremos tener datos faltantes en las observaciones, en la variable temporal (es decir en las marcas de tiempo) o una combinación de las dos anteriores.\n",
    "\n",
    "Así que en esta lección veremos los cuatro tipos de datos faltantes que podemos tener en una Serie de Tiempo así como las técnicas que podemos usar para detectar estos datos faltantes.\n",
    "\n",
    "Entender y saber detectar estos tipos de datos faltantes nos permitirá más adelante decidir cuál técnica usar para realizar el manejo correspondiente."
   ]
  },
  {
   "cell_type": "markdown",
   "id": "5daf77c9",
   "metadata": {},
   "source": [
    "## 1. Los sets de datos a usar\n",
    "\n",
    "Para entender los diferentes tipos de datos faltantes que podemos tener en una Serie de Tiempo haremos uso de estos sets de datos:\n",
    "\n",
    "- *co2_faltantes.csv*: emisiones anuales (1750-2020) de dióxido de carbono  a la atmósfera provenientes de la quema de combustibles fósiles\n",
    "- *clicks-faltantes-marcas.csv*, *clicks-faltantes-marcas-ocultas.csv* y *clicks-faltantes-multiples.csv*: información de interacción de usuarios (número de clicks) de un sitio web de artículos de vestuario.\n",
    "\n",
    "Leamos entonces estos sets de datos:"
   ]
  },
  {
   "cell_type": "code",
   "execution_count": 1,
   "id": "a7fc00dd",
   "metadata": {},
   "outputs": [],
   "source": [
    "import pandas as pd\n",
    "\n",
    "# Leer datasets\n",
    "RUTA = '/Users/miguel/Library/CloudStorage/GoogleDrive-miguel@codificandobits.com/My Drive/02-CODIFICANDOBITS.COM/04-Academia/01-Cursos/23-2024-05-SeriesDeTiempo-Preprocesamiento/data/'\n",
    "\n",
    "co2_df = pd.read_csv(RUTA + 'co2_faltantes.csv',\n",
    "                    parse_dates = ['año'],\n",
    "                    index_col = ['año'])\n",
    "\n",
    "clicks_df = pd.read_csv(RUTA + 'clicks_faltantes_marcas.csv',\n",
    "                    parse_dates = ['fecha'],\n",
    "                    index_col = ['fecha'])\n",
    "\n",
    "clicks_oc_df = pd.read_csv(RUTA + 'clicks_faltantes_marcas_ocultas.csv',\n",
    "                    parse_dates = ['fecha'],\n",
    "                    index_col = ['fecha'])\n",
    "\n",
    "clicks_mult_df = pd.read_csv(RUTA + 'clicks_faltantes_multiples.csv',\n",
    "                             parse_dates = ['fecha'],\n",
    "                             index_col = ['fecha'])"
   ]
  },
  {
   "cell_type": "markdown",
   "id": "9ac0fee3",
   "metadata": {},
   "source": [
    "Muy bien, ahora sí analicemos en detalle los diferentes tipos de datos faltantes que podremos encontrar en una Serie de Tiempo."
   ]
  },
  {
   "cell_type": "markdown",
   "id": "bc6eef2a",
   "metadata": {},
   "source": [
    "## Situación 1: observaciones faltantes\n",
    "\n",
    "En este caso nuestra Serie de Tiempo tendrá las marcas de tiempo (el índice del *DataFrame*) completas pero la(s) columna(s) (es decir las observaciones) contendrán datos faltantes.\n",
    "\n",
    "Cuando la columna contiene valores numéricos, el valor asignado a la(s) celda(s) faltante(s) será *NaN* (*Not A Number*).\n",
    "\n",
    "Veamos por ejemplo la serie \"co2_df\":"
   ]
  },
  {
   "cell_type": "code",
   "execution_count": 2,
   "id": "1b895b7e",
   "metadata": {},
   "outputs": [
    {
     "data": {
      "text/html": [
       "<div>\n",
       "<style scoped>\n",
       "    .dataframe tbody tr th:only-of-type {\n",
       "        vertical-align: middle;\n",
       "    }\n",
       "\n",
       "    .dataframe tbody tr th {\n",
       "        vertical-align: top;\n",
       "    }\n",
       "\n",
       "    .dataframe thead th {\n",
       "        text-align: right;\n",
       "    }\n",
       "</style>\n",
       "<table border=\"1\" class=\"dataframe\">\n",
       "  <thead>\n",
       "    <tr style=\"text-align: right;\">\n",
       "      <th></th>\n",
       "      <th>co2</th>\n",
       "    </tr>\n",
       "    <tr>\n",
       "      <th>año</th>\n",
       "      <th></th>\n",
       "    </tr>\n",
       "  </thead>\n",
       "  <tbody>\n",
       "    <tr>\n",
       "      <th>1750-01-01</th>\n",
       "      <td>0.0125</td>\n",
       "    </tr>\n",
       "    <tr>\n",
       "      <th>1760-01-01</th>\n",
       "      <td>0.0128</td>\n",
       "    </tr>\n",
       "    <tr>\n",
       "      <th>1770-01-01</th>\n",
       "      <td>NaN</td>\n",
       "    </tr>\n",
       "    <tr>\n",
       "      <th>1780-01-01</th>\n",
       "      <td>0.0169</td>\n",
       "    </tr>\n",
       "    <tr>\n",
       "      <th>1790-01-01</th>\n",
       "      <td>0.0206</td>\n",
       "    </tr>\n",
       "    <tr>\n",
       "      <th>...</th>\n",
       "      <td>...</td>\n",
       "    </tr>\n",
       "    <tr>\n",
       "      <th>2016-01-01</th>\n",
       "      <td>4.7496</td>\n",
       "    </tr>\n",
       "    <tr>\n",
       "      <th>2017-01-01</th>\n",
       "      <td>4.7595</td>\n",
       "    </tr>\n",
       "    <tr>\n",
       "      <th>2018-01-01</th>\n",
       "      <td>4.8022</td>\n",
       "    </tr>\n",
       "    <tr>\n",
       "      <th>2019-01-01</th>\n",
       "      <td>4.7582</td>\n",
       "    </tr>\n",
       "    <tr>\n",
       "      <th>2020-01-01</th>\n",
       "      <td>4.4654</td>\n",
       "    </tr>\n",
       "  </tbody>\n",
       "</table>\n",
       "<p>226 rows × 1 columns</p>\n",
       "</div>"
      ],
      "text/plain": [
       "               co2\n",
       "año               \n",
       "1750-01-01  0.0125\n",
       "1760-01-01  0.0128\n",
       "1770-01-01     NaN\n",
       "1780-01-01  0.0169\n",
       "1790-01-01  0.0206\n",
       "...            ...\n",
       "2016-01-01  4.7496\n",
       "2017-01-01  4.7595\n",
       "2018-01-01  4.8022\n",
       "2019-01-01  4.7582\n",
       "2020-01-01  4.4654\n",
       "\n",
       "[226 rows x 1 columns]"
      ]
     },
     "execution_count": 2,
     "metadata": {},
     "output_type": "execute_result"
    }
   ],
   "source": [
    "co2_df"
   ]
  },
  {
   "cell_type": "markdown",
   "id": "e016d68f",
   "metadata": {},
   "source": [
    "Vemos que el tercer elemento de la columna \"co2\" contiene un dato faltante, marcado como NaN. Esto es un ejemplo de una observación faltante.\n",
    "\n",
    "### Detección de observaciones faltantes\n",
    "\n",
    "La forma más sencilla de detectar las observaciones faltantes es usando el método \"isna()\". Por ejemplo, si encadenamos este método al método \"sum()\" podremos realizar un conteo de datos faltantes en la(s) columna(s) de interés:"
   ]
  },
  {
   "cell_type": "code",
   "execution_count": 3,
   "id": "d14f0532",
   "metadata": {},
   "outputs": [
    {
     "data": {
      "text/plain": [
       "co2    26\n",
       "dtype: int64"
      ]
     },
     "execution_count": 3,
     "metadata": {},
     "output_type": "execute_result"
    }
   ],
   "source": [
    "co2_df.isna().sum()"
   ]
  },
  {
   "cell_type": "markdown",
   "id": "be4ed4ed",
   "metadata": {},
   "source": [
    "Vemos que en total la columna \"co2\" contiene 26 datos faltantes.\n",
    "\n",
    "Si nos interesa podemos incluso determinar cuáles son los índices con observaciones faltantes:"
   ]
  },
  {
   "cell_type": "code",
   "execution_count": 4,
   "id": "d4e63ac8",
   "metadata": {},
   "outputs": [
    {
     "data": {
      "text/plain": [
       "DatetimeIndex(['1770-01-01', '1927-01-01', '1928-01-01', '1929-01-01',\n",
       "               '1930-01-01', '1931-01-01', '1932-01-01', '1933-01-01',\n",
       "               '1934-01-01', '1935-01-01', '1936-01-01', '1937-01-01',\n",
       "               '1974-01-01', '1975-01-01', '1976-01-01', '1977-01-01',\n",
       "               '1978-01-01', '1979-01-01', '1980-01-01', '1981-01-01',\n",
       "               '1982-01-01', '1983-01-01', '1984-01-01', '1985-01-01',\n",
       "               '1986-01-01', '1987-01-01'],\n",
       "              dtype='datetime64[ns]', name='año', freq=None)"
      ]
     },
     "execution_count": 4,
     "metadata": {},
     "output_type": "execute_result"
    }
   ],
   "source": [
    "ind_falt_co2 = co2_df[co2_df['co2'].isna()].index\n",
    "ind_falt_co2"
   ]
  },
  {
   "cell_type": "markdown",
   "id": "69fe3ae9",
   "metadata": {},
   "source": [
    "Más adelante, en las próximas lecciones, veremos cómo realizar el manejo de estos datos faltantes."
   ]
  },
  {
   "cell_type": "markdown",
   "id": "73fbdba3",
   "metadata": {},
   "source": [
    "## Situación 2: marcas de tiempo faltantes\n",
    "\n",
    "El segundo tipo de dato faltante que podemos tener en una Serie de Tiempo es cuando las observaciones están completas pero las marcas de tiempo (el índice del *DataFrame*) están incompletas.\n",
    "\n",
    "Por ejemplo, veamos el *DataFrame* *clicks_df*:"
   ]
  },
  {
   "cell_type": "code",
   "execution_count": 5,
   "id": "862c78eb",
   "metadata": {},
   "outputs": [
    {
     "data": {
      "text/html": [
       "<div>\n",
       "<style scoped>\n",
       "    .dataframe tbody tr th:only-of-type {\n",
       "        vertical-align: middle;\n",
       "    }\n",
       "\n",
       "    .dataframe tbody tr th {\n",
       "        vertical-align: top;\n",
       "    }\n",
       "\n",
       "    .dataframe thead th {\n",
       "        text-align: right;\n",
       "    }\n",
       "</style>\n",
       "<table border=\"1\" class=\"dataframe\">\n",
       "  <thead>\n",
       "    <tr style=\"text-align: right;\">\n",
       "      <th></th>\n",
       "      <th>precio</th>\n",
       "      <th>ubicación</th>\n",
       "      <th>clicks</th>\n",
       "    </tr>\n",
       "    <tr>\n",
       "      <th>fecha</th>\n",
       "      <th></th>\n",
       "      <th></th>\n",
       "      <th></th>\n",
       "    </tr>\n",
       "  </thead>\n",
       "  <tbody>\n",
       "    <tr>\n",
       "      <th>2008-04-01</th>\n",
       "      <td>43.155647</td>\n",
       "      <td>2</td>\n",
       "      <td>18784.0</td>\n",
       "    </tr>\n",
       "    <tr>\n",
       "      <th>2008-04-02</th>\n",
       "      <td>43.079056</td>\n",
       "      <td>1</td>\n",
       "      <td>24738.0</td>\n",
       "    </tr>\n",
       "    <tr>\n",
       "      <th>NaT</th>\n",
       "      <td>43.842609</td>\n",
       "      <td>2</td>\n",
       "      <td>15209.0</td>\n",
       "    </tr>\n",
       "    <tr>\n",
       "      <th>2008-04-04</th>\n",
       "      <td>43.382794</td>\n",
       "      <td>2</td>\n",
       "      <td>14320.0</td>\n",
       "    </tr>\n",
       "    <tr>\n",
       "      <th>2008-04-05</th>\n",
       "      <td>43.941176</td>\n",
       "      <td>1</td>\n",
       "      <td>11974.0</td>\n",
       "    </tr>\n",
       "    <tr>\n",
       "      <th>...</th>\n",
       "      <td>...</td>\n",
       "      <td>...</td>\n",
       "      <td>...</td>\n",
       "    </tr>\n",
       "    <tr>\n",
       "      <th>2008-08-09</th>\n",
       "      <td>44.182033</td>\n",
       "      <td>1</td>\n",
       "      <td>6716.0</td>\n",
       "    </tr>\n",
       "    <tr>\n",
       "      <th>2008-08-10</th>\n",
       "      <td>43.608260</td>\n",
       "      <td>1</td>\n",
       "      <td>9523.0</td>\n",
       "    </tr>\n",
       "    <tr>\n",
       "      <th>2008-08-11</th>\n",
       "      <td>43.553363</td>\n",
       "      <td>1</td>\n",
       "      <td>8881.0</td>\n",
       "    </tr>\n",
       "    <tr>\n",
       "      <th>2008-08-12</th>\n",
       "      <td>44.500469</td>\n",
       "      <td>1</td>\n",
       "      <td>7272.0</td>\n",
       "    </tr>\n",
       "    <tr>\n",
       "      <th>2008-08-13</th>\n",
       "      <td>42.751295</td>\n",
       "      <td>1</td>\n",
       "      <td>2922.0</td>\n",
       "    </tr>\n",
       "  </tbody>\n",
       "</table>\n",
       "<p>134 rows × 3 columns</p>\n",
       "</div>"
      ],
      "text/plain": [
       "               precio  ubicación   clicks\n",
       "fecha                                    \n",
       "2008-04-01  43.155647          2  18784.0\n",
       "2008-04-02  43.079056          1  24738.0\n",
       "NaT         43.842609          2  15209.0\n",
       "2008-04-04  43.382794          2  14320.0\n",
       "2008-04-05  43.941176          1  11974.0\n",
       "...               ...        ...      ...\n",
       "2008-08-09  44.182033          1   6716.0\n",
       "2008-08-10  43.608260          1   9523.0\n",
       "2008-08-11  43.553363          1   8881.0\n",
       "2008-08-12  44.500469          1   7272.0\n",
       "2008-08-13  42.751295          1   2922.0\n",
       "\n",
       "[134 rows x 3 columns]"
      ]
     },
     "execution_count": 5,
     "metadata": {},
     "output_type": "execute_result"
    }
   ],
   "source": [
    "clicks_df"
   ]
  },
  {
   "cell_type": "markdown",
   "id": "ca7c71f1",
   "metadata": {},
   "source": [
    "En este caso, si usamos el método anterior (combinación de los métodos \"isna()\" y \"sum()\") encontraremos que las columnas \"precio\" y \"ubicación\" están completas y que hay 16 datos incompletos en \"clicks\":"
   ]
  },
  {
   "cell_type": "code",
   "execution_count": 6,
   "id": "e5dc7a2f",
   "metadata": {},
   "outputs": [
    {
     "data": {
      "text/plain": [
       "precio        0\n",
       "ubicación     0\n",
       "clicks       16\n",
       "dtype: int64"
      ]
     },
     "execution_count": 6,
     "metadata": {},
     "output_type": "execute_result"
    }
   ],
   "source": [
    "clicks_df.isna().sum()"
   ]
  },
  {
   "cell_type": "markdown",
   "id": "c390406c",
   "metadata": {},
   "source": [
    "Sin embargo, **nada nos garantiza que no tengamos datos faltantes en el índice de la serie**.\n",
    "\n",
    "De hecho, podemos ver que después de la segunda fila (fecha: 2008-04-02) tenemos un \"salto\" hasta el 2008-04-04. Es decir que al menos hay una marca de tiempo faltante: 2008-04-03.\n",
    "\n",
    "Esta marca de tiempo faltante es etiquetada con un valor *NaT* (*Not a Time*)por Pandas.\n",
    "\n",
    "### Detección de marcas de tiempo faltantes\n",
    "\n",
    "Podemos usar una variantes del método anterior (\"isna()\" combinado con \"sum()\") para detectar marcas de tiempo (tipo *NaT*) faltantes. Simplemente extraemos primero el índice del *DataFrame* y luego si usamos los dos métodos anteriores:"
   ]
  },
  {
   "cell_type": "code",
   "execution_count": 7,
   "id": "b3692551",
   "metadata": {},
   "outputs": [
    {
     "data": {
      "text/plain": [
       "2"
      ]
     },
     "execution_count": 7,
     "metadata": {},
     "output_type": "execute_result"
    }
   ],
   "source": [
    "clicks_df.index.isna().sum()"
   ]
  },
  {
   "cell_type": "markdown",
   "id": "daf0ab0c",
   "metadata": {},
   "source": [
    "Lo anterior quiere decir que el índice de la serie contiene 2 valores faltantes."
   ]
  },
  {
   "cell_type": "markdown",
   "id": "0c833a53",
   "metadata": {},
   "source": [
    "## Situación 3: marcas de tiempo faltantes \"ocultas\"\n",
    "\n",
    "Esta situación es similar a la anterior. Sin embargo, en principio ninguna marca de tiempo aparece etiquetada como *NaT*.\n",
    "\n",
    "Por ejemplo veamos lo que ocurre con el *DataFrame* *clicks_oc_df*:"
   ]
  },
  {
   "cell_type": "code",
   "execution_count": 8,
   "id": "4f60ae8e",
   "metadata": {},
   "outputs": [
    {
     "data": {
      "text/html": [
       "<div>\n",
       "<style scoped>\n",
       "    .dataframe tbody tr th:only-of-type {\n",
       "        vertical-align: middle;\n",
       "    }\n",
       "\n",
       "    .dataframe tbody tr th {\n",
       "        vertical-align: top;\n",
       "    }\n",
       "\n",
       "    .dataframe thead th {\n",
       "        text-align: right;\n",
       "    }\n",
       "</style>\n",
       "<table border=\"1\" class=\"dataframe\">\n",
       "  <thead>\n",
       "    <tr style=\"text-align: right;\">\n",
       "      <th></th>\n",
       "      <th>precio</th>\n",
       "      <th>ubicación</th>\n",
       "      <th>clicks</th>\n",
       "    </tr>\n",
       "    <tr>\n",
       "      <th>fecha</th>\n",
       "      <th></th>\n",
       "      <th></th>\n",
       "      <th></th>\n",
       "    </tr>\n",
       "  </thead>\n",
       "  <tbody>\n",
       "    <tr>\n",
       "      <th>2008-04-01</th>\n",
       "      <td>43.155647</td>\n",
       "      <td>2</td>\n",
       "      <td>18784.0</td>\n",
       "    </tr>\n",
       "    <tr>\n",
       "      <th>2008-04-02</th>\n",
       "      <td>43.079056</td>\n",
       "      <td>1</td>\n",
       "      <td>24738.0</td>\n",
       "    </tr>\n",
       "    <tr>\n",
       "      <th>2008-04-03</th>\n",
       "      <td>43.842609</td>\n",
       "      <td>2</td>\n",
       "      <td>15209.0</td>\n",
       "    </tr>\n",
       "    <tr>\n",
       "      <th>2008-04-05</th>\n",
       "      <td>43.941176</td>\n",
       "      <td>1</td>\n",
       "      <td>11974.0</td>\n",
       "    </tr>\n",
       "    <tr>\n",
       "      <th>2008-04-06</th>\n",
       "      <td>44.403936</td>\n",
       "      <td>1</td>\n",
       "      <td>11007.0</td>\n",
       "    </tr>\n",
       "    <tr>\n",
       "      <th>...</th>\n",
       "      <td>...</td>\n",
       "      <td>...</td>\n",
       "      <td>...</td>\n",
       "    </tr>\n",
       "    <tr>\n",
       "      <th>2008-08-09</th>\n",
       "      <td>44.182033</td>\n",
       "      <td>1</td>\n",
       "      <td>6716.0</td>\n",
       "    </tr>\n",
       "    <tr>\n",
       "      <th>2008-08-10</th>\n",
       "      <td>43.608260</td>\n",
       "      <td>1</td>\n",
       "      <td>9523.0</td>\n",
       "    </tr>\n",
       "    <tr>\n",
       "      <th>2008-08-11</th>\n",
       "      <td>43.553363</td>\n",
       "      <td>1</td>\n",
       "      <td>8881.0</td>\n",
       "    </tr>\n",
       "    <tr>\n",
       "      <th>2008-08-12</th>\n",
       "      <td>44.500469</td>\n",
       "      <td>1</td>\n",
       "      <td>7272.0</td>\n",
       "    </tr>\n",
       "    <tr>\n",
       "      <th>2008-08-13</th>\n",
       "      <td>42.751295</td>\n",
       "      <td>1</td>\n",
       "      <td>2922.0</td>\n",
       "    </tr>\n",
       "  </tbody>\n",
       "</table>\n",
       "<p>132 rows × 3 columns</p>\n",
       "</div>"
      ],
      "text/plain": [
       "               precio  ubicación   clicks\n",
       "fecha                                    \n",
       "2008-04-01  43.155647          2  18784.0\n",
       "2008-04-02  43.079056          1  24738.0\n",
       "2008-04-03  43.842609          2  15209.0\n",
       "2008-04-05  43.941176          1  11974.0\n",
       "2008-04-06  44.403936          1  11007.0\n",
       "...               ...        ...      ...\n",
       "2008-08-09  44.182033          1   6716.0\n",
       "2008-08-10  43.608260          1   9523.0\n",
       "2008-08-11  43.553363          1   8881.0\n",
       "2008-08-12  44.500469          1   7272.0\n",
       "2008-08-13  42.751295          1   2922.0\n",
       "\n",
       "[132 rows x 3 columns]"
      ]
     },
     "execution_count": 8,
     "metadata": {},
     "output_type": "execute_result"
    }
   ],
   "source": [
    "clicks_oc_df"
   ]
  },
  {
   "cell_type": "markdown",
   "id": "944deeac",
   "metadata": {},
   "source": [
    "Detectemos observaciones faltantes:"
   ]
  },
  {
   "cell_type": "code",
   "execution_count": 9,
   "id": "8a010fc2",
   "metadata": {},
   "outputs": [
    {
     "data": {
      "text/plain": [
       "precio        0\n",
       "ubicación     0\n",
       "clicks       16\n",
       "dtype: int64"
      ]
     },
     "execution_count": 9,
     "metadata": {},
     "output_type": "execute_result"
    }
   ],
   "source": [
    "clicks_oc_df.isna().sum()"
   ]
  },
  {
   "cell_type": "markdown",
   "id": "57b87947",
   "metadata": {},
   "source": [
    "Y ahora detectemos marcas de tiempo faltantes:"
   ]
  },
  {
   "cell_type": "code",
   "execution_count": 10,
   "id": "eb9d5221",
   "metadata": {},
   "outputs": [
    {
     "data": {
      "text/plain": [
       "0"
      ]
     },
     "execution_count": 10,
     "metadata": {},
     "output_type": "execute_result"
    }
   ],
   "source": [
    "clicks_oc_df.index.isna().sum()"
   ]
  },
  {
   "cell_type": "markdown",
   "id": "7779a520",
   "metadata": {},
   "source": [
    "Al parecer no hay marcas de tiempo faltantes. Sin embargo, veamos nuevamente el índice de este *DataFrame*:"
   ]
  },
  {
   "cell_type": "code",
   "execution_count": 11,
   "id": "50d4d31c",
   "metadata": {},
   "outputs": [
    {
     "data": {
      "text/html": [
       "<div>\n",
       "<style scoped>\n",
       "    .dataframe tbody tr th:only-of-type {\n",
       "        vertical-align: middle;\n",
       "    }\n",
       "\n",
       "    .dataframe tbody tr th {\n",
       "        vertical-align: top;\n",
       "    }\n",
       "\n",
       "    .dataframe thead th {\n",
       "        text-align: right;\n",
       "    }\n",
       "</style>\n",
       "<table border=\"1\" class=\"dataframe\">\n",
       "  <thead>\n",
       "    <tr style=\"text-align: right;\">\n",
       "      <th></th>\n",
       "      <th>precio</th>\n",
       "      <th>ubicación</th>\n",
       "      <th>clicks</th>\n",
       "    </tr>\n",
       "    <tr>\n",
       "      <th>fecha</th>\n",
       "      <th></th>\n",
       "      <th></th>\n",
       "      <th></th>\n",
       "    </tr>\n",
       "  </thead>\n",
       "  <tbody>\n",
       "    <tr>\n",
       "      <th>2008-04-01</th>\n",
       "      <td>43.155647</td>\n",
       "      <td>2</td>\n",
       "      <td>18784.0</td>\n",
       "    </tr>\n",
       "    <tr>\n",
       "      <th>2008-04-02</th>\n",
       "      <td>43.079056</td>\n",
       "      <td>1</td>\n",
       "      <td>24738.0</td>\n",
       "    </tr>\n",
       "    <tr>\n",
       "      <th>2008-04-03</th>\n",
       "      <td>43.842609</td>\n",
       "      <td>2</td>\n",
       "      <td>15209.0</td>\n",
       "    </tr>\n",
       "    <tr>\n",
       "      <th>2008-04-05</th>\n",
       "      <td>43.941176</td>\n",
       "      <td>1</td>\n",
       "      <td>11974.0</td>\n",
       "    </tr>\n",
       "    <tr>\n",
       "      <th>2008-04-06</th>\n",
       "      <td>44.403936</td>\n",
       "      <td>1</td>\n",
       "      <td>11007.0</td>\n",
       "    </tr>\n",
       "    <tr>\n",
       "      <th>...</th>\n",
       "      <td>...</td>\n",
       "      <td>...</td>\n",
       "      <td>...</td>\n",
       "    </tr>\n",
       "    <tr>\n",
       "      <th>2008-08-09</th>\n",
       "      <td>44.182033</td>\n",
       "      <td>1</td>\n",
       "      <td>6716.0</td>\n",
       "    </tr>\n",
       "    <tr>\n",
       "      <th>2008-08-10</th>\n",
       "      <td>43.608260</td>\n",
       "      <td>1</td>\n",
       "      <td>9523.0</td>\n",
       "    </tr>\n",
       "    <tr>\n",
       "      <th>2008-08-11</th>\n",
       "      <td>43.553363</td>\n",
       "      <td>1</td>\n",
       "      <td>8881.0</td>\n",
       "    </tr>\n",
       "    <tr>\n",
       "      <th>2008-08-12</th>\n",
       "      <td>44.500469</td>\n",
       "      <td>1</td>\n",
       "      <td>7272.0</td>\n",
       "    </tr>\n",
       "    <tr>\n",
       "      <th>2008-08-13</th>\n",
       "      <td>42.751295</td>\n",
       "      <td>1</td>\n",
       "      <td>2922.0</td>\n",
       "    </tr>\n",
       "  </tbody>\n",
       "</table>\n",
       "<p>132 rows × 3 columns</p>\n",
       "</div>"
      ],
      "text/plain": [
       "               precio  ubicación   clicks\n",
       "fecha                                    \n",
       "2008-04-01  43.155647          2  18784.0\n",
       "2008-04-02  43.079056          1  24738.0\n",
       "2008-04-03  43.842609          2  15209.0\n",
       "2008-04-05  43.941176          1  11974.0\n",
       "2008-04-06  44.403936          1  11007.0\n",
       "...               ...        ...      ...\n",
       "2008-08-09  44.182033          1   6716.0\n",
       "2008-08-10  43.608260          1   9523.0\n",
       "2008-08-11  43.553363          1   8881.0\n",
       "2008-08-12  44.500469          1   7272.0\n",
       "2008-08-13  42.751295          1   2922.0\n",
       "\n",
       "[132 rows x 3 columns]"
      ]
     },
     "execution_count": 11,
     "metadata": {},
     "output_type": "execute_result"
    }
   ],
   "source": [
    "clicks_oc_df"
   ]
  },
  {
   "cell_type": "markdown",
   "id": "6e72843c",
   "metadata": {},
   "source": [
    "Vemos que en principio hay un \"salto\" entre 2008-04-03 y 2008-04-05. Es decir que la Serie de Tiempo tiene una frecuencia diaria pero esta frecuencia no se mantiene para 2008-04-04.\n",
    "\n",
    "En este caso Pandas lee la Serie de Tiempo de manera correcta y **no aparecerán marcas faltantes etiquetadas con *NaT***.\n",
    "\n",
    "### Detección usando el método \"difference\"\n",
    "\n",
    "En este caso la idea es:\n",
    "\n",
    "1. Crear un rango ideal de fechas\n",
    "2. Usar \"difference\" para encontrar las diferencias entre este rango y el índice original del DataFrame\n",
    "\n",
    "Veamos esta implementación:"
   ]
  },
  {
   "cell_type": "code",
   "execution_count": 12,
   "id": "95783d04",
   "metadata": {},
   "outputs": [
    {
     "data": {
      "text/plain": [
       "DatetimeIndex(['2008-04-01', '2008-04-02', '2008-04-03', '2008-04-04',\n",
       "               '2008-04-05', '2008-04-06', '2008-04-07', '2008-04-08',\n",
       "               '2008-04-09', '2008-04-10',\n",
       "               ...\n",
       "               '2008-08-04', '2008-08-05', '2008-08-06', '2008-08-07',\n",
       "               '2008-08-08', '2008-08-09', '2008-08-10', '2008-08-11',\n",
       "               '2008-08-12', '2008-08-13'],\n",
       "              dtype='datetime64[ns]', length=135, freq='D')"
      ]
     },
     "execution_count": 12,
     "metadata": {},
     "output_type": "execute_result"
    }
   ],
   "source": [
    "# 1. Crear un rango completo de fechas\n",
    "rango_fechas = pd.date_range(start=clicks_oc_df.index.min(), end=clicks_oc_df.index.max(), freq='D')\n",
    "rango_fechas"
   ]
  },
  {
   "cell_type": "code",
   "execution_count": 13,
   "id": "22293bc7",
   "metadata": {},
   "outputs": [
    {
     "data": {
      "text/plain": [
       "DatetimeIndex(['2008-04-04', '2008-04-07', '2008-04-09'], dtype='datetime64[ns]', freq=None)"
      ]
     },
     "execution_count": 13,
     "metadata": {},
     "output_type": "execute_result"
    }
   ],
   "source": [
    "# 2. Usar \"difference\" para encontrar las diferencias entre este rango y el índice original del *DataFrame*\n",
    "rango_fechas.difference(clicks_oc_df.index)"
   ]
  },
  {
   "cell_type": "markdown",
   "id": "cb7c7636",
   "metadata": {},
   "source": [
    "## Situación 4: observaciones y marcas de tiempo faltantes\n",
    "\n",
    "En este caso tendremos tanto observaciones faltantes (marcadas como *NaN*) como marcas de tiempo faltantes (marcadas o no como *NaT*).\n",
    "\n",
    "Por ejemplo veamos el *DataFrame* *clicks_mult_df*:"
   ]
  },
  {
   "cell_type": "code",
   "execution_count": 14,
   "id": "c4380022",
   "metadata": {},
   "outputs": [
    {
     "data": {
      "text/html": [
       "<div>\n",
       "<style scoped>\n",
       "    .dataframe tbody tr th:only-of-type {\n",
       "        vertical-align: middle;\n",
       "    }\n",
       "\n",
       "    .dataframe tbody tr th {\n",
       "        vertical-align: top;\n",
       "    }\n",
       "\n",
       "    .dataframe thead th {\n",
       "        text-align: right;\n",
       "    }\n",
       "</style>\n",
       "<table border=\"1\" class=\"dataframe\">\n",
       "  <thead>\n",
       "    <tr style=\"text-align: right;\">\n",
       "      <th></th>\n",
       "      <th>precio</th>\n",
       "      <th>ubicación</th>\n",
       "      <th>clicks</th>\n",
       "    </tr>\n",
       "    <tr>\n",
       "      <th>fecha</th>\n",
       "      <th></th>\n",
       "      <th></th>\n",
       "      <th></th>\n",
       "    </tr>\n",
       "  </thead>\n",
       "  <tbody>\n",
       "    <tr>\n",
       "      <th>2008-04-01</th>\n",
       "      <td>43.155647</td>\n",
       "      <td>2.0</td>\n",
       "      <td>18784</td>\n",
       "    </tr>\n",
       "    <tr>\n",
       "      <th>2008-04-02</th>\n",
       "      <td>43.079056</td>\n",
       "      <td>1.0</td>\n",
       "      <td>24738</td>\n",
       "    </tr>\n",
       "    <tr>\n",
       "      <th>NaT</th>\n",
       "      <td>43.842609</td>\n",
       "      <td>NaN</td>\n",
       "      <td>15209</td>\n",
       "    </tr>\n",
       "    <tr>\n",
       "      <th>NaT</th>\n",
       "      <td>NaN</td>\n",
       "      <td>1.0</td>\n",
       "      <td>14018</td>\n",
       "    </tr>\n",
       "    <tr>\n",
       "      <th>NaT</th>\n",
       "      <td>43.941176</td>\n",
       "      <td>1.0</td>\n",
       "      <td>11974</td>\n",
       "    </tr>\n",
       "    <tr>\n",
       "      <th>...</th>\n",
       "      <td>...</td>\n",
       "      <td>...</td>\n",
       "      <td>...</td>\n",
       "    </tr>\n",
       "    <tr>\n",
       "      <th>2008-08-09</th>\n",
       "      <td>44.182033</td>\n",
       "      <td>1.0</td>\n",
       "      <td>6716</td>\n",
       "    </tr>\n",
       "    <tr>\n",
       "      <th>2008-08-10</th>\n",
       "      <td>43.608260</td>\n",
       "      <td>1.0</td>\n",
       "      <td>9523</td>\n",
       "    </tr>\n",
       "    <tr>\n",
       "      <th>2008-08-11</th>\n",
       "      <td>43.553363</td>\n",
       "      <td>1.0</td>\n",
       "      <td>8881</td>\n",
       "    </tr>\n",
       "    <tr>\n",
       "      <th>2008-08-12</th>\n",
       "      <td>44.500469</td>\n",
       "      <td>1.0</td>\n",
       "      <td>7272</td>\n",
       "    </tr>\n",
       "    <tr>\n",
       "      <th>2008-08-13</th>\n",
       "      <td>42.751295</td>\n",
       "      <td>1.0</td>\n",
       "      <td>2922</td>\n",
       "    </tr>\n",
       "  </tbody>\n",
       "</table>\n",
       "<p>135 rows × 3 columns</p>\n",
       "</div>"
      ],
      "text/plain": [
       "               precio  ubicación clicks\n",
       "fecha                                  \n",
       "2008-04-01  43.155647        2.0  18784\n",
       "2008-04-02  43.079056        1.0  24738\n",
       "NaT         43.842609        NaN  15209\n",
       "NaT               NaN        1.0  14018\n",
       "NaT         43.941176        1.0  11974\n",
       "...               ...        ...    ...\n",
       "2008-08-09  44.182033        1.0   6716\n",
       "2008-08-10  43.608260        1.0   9523\n",
       "2008-08-11  43.553363        1.0   8881\n",
       "2008-08-12  44.500469        1.0   7272\n",
       "2008-08-13  42.751295        1.0   2922\n",
       "\n",
       "[135 rows x 3 columns]"
      ]
     },
     "execution_count": 14,
     "metadata": {},
     "output_type": "execute_result"
    }
   ],
   "source": [
    "clicks_mult_df"
   ]
  },
  {
   "cell_type": "markdown",
   "id": "3c0868af",
   "metadata": {},
   "source": [
    "Y en este caso podemos simplemente combinar los métodos anteriores para detectar las observaciones y las marcas de tiempo faltantes.\n",
    "\n",
    "Para el caso de las observaciones:"
   ]
  },
  {
   "cell_type": "code",
   "execution_count": 15,
   "id": "b28ad1fc",
   "metadata": {},
   "outputs": [
    {
     "data": {
      "text/plain": [
       "precio        1\n",
       "ubicación     1\n",
       "clicks       14\n",
       "dtype: int64"
      ]
     },
     "execution_count": 15,
     "metadata": {},
     "output_type": "execute_result"
    }
   ],
   "source": [
    "clicks_mult_df.isna().sum()"
   ]
  },
  {
   "cell_type": "markdown",
   "id": "505d7ef2",
   "metadata": {},
   "source": [
    "Y para el caso de las marcas de tiempo \"NaT\":"
   ]
  },
  {
   "cell_type": "code",
   "execution_count": 16,
   "id": "e86dd13f",
   "metadata": {},
   "outputs": [
    {
     "data": {
      "text/plain": [
       "4"
      ]
     },
     "execution_count": 16,
     "metadata": {},
     "output_type": "execute_result"
    }
   ],
   "source": [
    "clicks_mult_df.index.isna().sum()"
   ]
  },
  {
   "cell_type": "markdown",
   "id": "e1d036d0",
   "metadata": {},
   "source": [
    "En este caso es importante tener en cuenta que además de las marcas de tiempo faltantes marcadas como *NaT* podríamos tener marcas de tiempo ocultas. Pero en este caso deberíamos primero manejar las marcas *NaT* y luego determinar si existen o no marcas ocultas (de esto hablaremos en detalle en la próxima lección)."
   ]
  }
 ],
 "metadata": {
  "kernelspec": {
   "display_name": "Python 3 (ipykernel)",
   "language": "python",
   "name": "python3"
  },
  "language_info": {
   "codemirror_mode": {
    "name": "ipython",
    "version": 3
   },
   "file_extension": ".py",
   "mimetype": "text/x-python",
   "name": "python",
   "nbconvert_exporter": "python",
   "pygments_lexer": "ipython3",
   "version": "3.11.2"
  }
 },
 "nbformat": 4,
 "nbformat_minor": 5
}
