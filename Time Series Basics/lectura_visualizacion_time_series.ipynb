{
 "cells": [
  {
   "cell_type": "markdown",
   "id": "1239c50e",
   "metadata": {},
   "source": [
    "# Lectura y visualización de Series de Tiempo (repaso)\n",
    "\n",
    "En esta lección haremos un repaso de las principales herramientas para la lectura y visualización de Series de Tiempo usando las librerías Pandas, Seaborn y Matplotlib.\n",
    "\n",
    "Para ver el uso avanzado de varias de estas técnicas se sugiere revisar las siguientes lecciones del curso **\"Pandas Nivel Avanzado\"** disponible acá en la Academia Online:\n",
    "\n",
    "- Lección 7: \"Series de tiempo en Pandas: índices\"\n",
    "- Lección 15: \"Herramientas para la visualización de series de tiempo\""
   ]
  },
  {
   "cell_type": "markdown",
   "id": "7be06e59",
   "metadata": {},
   "source": [
    "## 1. Lectura de Series de Tiempo\n",
    "\n",
    "En este caso asumiremos el tipo de archivo más comúnmente usado: CSV (o *comma separated values*).\n",
    "\n",
    "Para leer una Serie de Tiempo como un *DataFrame* de Pandas es clave que el índice que asignemos a esta tabla sea de tipo \"datetime\".\n",
    "\n",
    "Esto facilitará no sólo la visualización sino el posterior pre-procesamiento de la Serie de Tiempo.\n",
    "\n",
    "Para ver cómo realizar esta lectura comencemos leyendo el set de datos *dow.csv* como un *DataFrame* convencional:"
   ]
  },
  {
   "cell_type": "code",
   "execution_count": 1,
   "id": "6d1b38e1",
   "metadata": {},
   "outputs": [
    {
     "data": {
      "text/html": [
       "<div>\n",
       "<style scoped>\n",
       "    .dataframe tbody tr th:only-of-type {\n",
       "        vertical-align: middle;\n",
       "    }\n",
       "\n",
       "    .dataframe tbody tr th {\n",
       "        vertical-align: top;\n",
       "    }\n",
       "\n",
       "    .dataframe thead th {\n",
       "        text-align: right;\n",
       "    }\n",
       "</style>\n",
       "<table border=\"1\" class=\"dataframe\">\n",
       "  <thead>\n",
       "    <tr style=\"text-align: right;\">\n",
       "      <th></th>\n",
       "      <th>Fecha</th>\n",
       "      <th>Día</th>\n",
       "      <th>Ranking</th>\n",
       "      <th>Diario</th>\n",
       "      <th>Variación</th>\n",
       "      <th>Diferencia</th>\n",
       "      <th>Pronóstico</th>\n",
       "      <th>Cambio Porcentual</th>\n",
       "      <th>Vol</th>\n",
       "      <th>A la fecha</th>\n",
       "      <th>ID</th>\n",
       "    </tr>\n",
       "  </thead>\n",
       "  <tbody>\n",
       "    <tr>\n",
       "      <th>0</th>\n",
       "      <td>26-Apr-21</td>\n",
       "      <td>Viernes</td>\n",
       "      <td>1</td>\n",
       "      <td>$125,789.89</td>\n",
       "      <td>NaN</td>\n",
       "      <td>-</td>\n",
       "      <td>$235,036.46</td>\n",
       "      <td>-46.48%</td>\n",
       "      <td>1000</td>\n",
       "      <td>$125,789.89</td>\n",
       "      <td>1</td>\n",
       "    </tr>\n",
       "    <tr>\n",
       "      <th>1</th>\n",
       "      <td>27-Apr-21</td>\n",
       "      <td>Sábado</td>\n",
       "      <td>1</td>\n",
       "      <td>$99,374.01</td>\n",
       "      <td>79.00%</td>\n",
       "      <td>-26416</td>\n",
       "      <td>$197,622.55</td>\n",
       "      <td>-49.72%</td>\n",
       "      <td>1000</td>\n",
       "      <td>$225,163.90</td>\n",
       "      <td>2</td>\n",
       "    </tr>\n",
       "    <tr>\n",
       "      <th>2</th>\n",
       "      <td>28-Apr-21</td>\n",
       "      <td>Domingo</td>\n",
       "      <td>1</td>\n",
       "      <td>$82,203.16</td>\n",
       "      <td>82.72%</td>\n",
       "      <td>-17171</td>\n",
       "      <td>$116,991.26</td>\n",
       "      <td>-29.74%</td>\n",
       "      <td>1000</td>\n",
       "      <td>$307,367.06</td>\n",
       "      <td>3</td>\n",
       "    </tr>\n",
       "    <tr>\n",
       "      <th>3</th>\n",
       "      <td>29-Apr-21</td>\n",
       "      <td>Lunes</td>\n",
       "      <td>1</td>\n",
       "      <td>$33,530.26</td>\n",
       "      <td>40.79%</td>\n",
       "      <td>-48673</td>\n",
       "      <td>$66,652.65</td>\n",
       "      <td>-49.69%</td>\n",
       "      <td>1000</td>\n",
       "      <td>$340,897.32</td>\n",
       "      <td>4</td>\n",
       "    </tr>\n",
       "    <tr>\n",
       "      <th>4</th>\n",
       "      <td>30-Apr-21</td>\n",
       "      <td>Martes</td>\n",
       "      <td>1</td>\n",
       "      <td>$30,105.24</td>\n",
       "      <td>89.79%</td>\n",
       "      <td>-3425</td>\n",
       "      <td>$34,828.19</td>\n",
       "      <td>-13.56%</td>\n",
       "      <td>1000</td>\n",
       "      <td>$371,002.56</td>\n",
       "      <td>5</td>\n",
       "    </tr>\n",
       "    <tr>\n",
       "      <th>...</th>\n",
       "      <td>...</td>\n",
       "      <td>...</td>\n",
       "      <td>...</td>\n",
       "      <td>...</td>\n",
       "      <td>...</td>\n",
       "      <td>...</td>\n",
       "      <td>...</td>\n",
       "      <td>...</td>\n",
       "      <td>...</td>\n",
       "      <td>...</td>\n",
       "      <td>...</td>\n",
       "    </tr>\n",
       "    <tr>\n",
       "      <th>123</th>\n",
       "      <td>27-Aug-21</td>\n",
       "      <td>Martes</td>\n",
       "      <td>42</td>\n",
       "      <td>$0.00</td>\n",
       "      <td>29.03%</td>\n",
       "      <td>0</td>\n",
       "      <td>$0.01</td>\n",
       "      <td>-45.07%</td>\n",
       "      <td>100</td>\n",
       "      <td>$752,143.86</td>\n",
       "      <td>124</td>\n",
       "    </tr>\n",
       "    <tr>\n",
       "      <th>124</th>\n",
       "      <td>28-Aug-21</td>\n",
       "      <td>Miércoles</td>\n",
       "      <td>43</td>\n",
       "      <td>$0.00</td>\n",
       "      <td>49.60%</td>\n",
       "      <td>0</td>\n",
       "      <td>$0.00</td>\n",
       "      <td>-32.94%</td>\n",
       "      <td>100</td>\n",
       "      <td>$752,143.87</td>\n",
       "      <td>125</td>\n",
       "    </tr>\n",
       "    <tr>\n",
       "      <th>125</th>\n",
       "      <td>29-Aug-21</td>\n",
       "      <td>Viernes</td>\n",
       "      <td>42</td>\n",
       "      <td>$0.00</td>\n",
       "      <td>29.03%</td>\n",
       "      <td>0</td>\n",
       "      <td>$0.00</td>\n",
       "      <td>-38.06%</td>\n",
       "      <td>100</td>\n",
       "      <td>$752,143.87</td>\n",
       "      <td>126</td>\n",
       "    </tr>\n",
       "    <tr>\n",
       "      <th>126</th>\n",
       "      <td>30-Aug-21</td>\n",
       "      <td>Viernes</td>\n",
       "      <td>36</td>\n",
       "      <td>$0.00</td>\n",
       "      <td>49.60%</td>\n",
       "      <td>0</td>\n",
       "      <td>$0.00</td>\n",
       "      <td>-24.58%</td>\n",
       "      <td>100</td>\n",
       "      <td>$752,143.87</td>\n",
       "      <td>127</td>\n",
       "    </tr>\n",
       "    <tr>\n",
       "      <th>127</th>\n",
       "      <td>31-Aug-21</td>\n",
       "      <td>Sábado</td>\n",
       "      <td>34</td>\n",
       "      <td>$0.00</td>\n",
       "      <td>29.03%</td>\n",
       "      <td>0</td>\n",
       "      <td>$0.00</td>\n",
       "      <td>-49.77%</td>\n",
       "      <td>100</td>\n",
       "      <td>$752,143.87</td>\n",
       "      <td>128</td>\n",
       "    </tr>\n",
       "  </tbody>\n",
       "</table>\n",
       "<p>128 rows × 11 columns</p>\n",
       "</div>"
      ],
      "text/plain": [
       "         Fecha        Día  Ranking        Diario Variación Diferencia  \\\n",
       "0    26-Apr-21    Viernes        1  $125,789.89        NaN          -   \n",
       "1    27-Apr-21     Sábado        1   $99,374.01     79.00%     -26416   \n",
       "2    28-Apr-21    Domingo        1   $82,203.16     82.72%     -17171   \n",
       "3    29-Apr-21      Lunes        1   $33,530.26     40.79%     -48673   \n",
       "4    30-Apr-21     Martes        1   $30,105.24     89.79%      -3425   \n",
       "..         ...        ...      ...           ...       ...        ...   \n",
       "123  27-Aug-21     Martes       42        $0.00     29.03%          0   \n",
       "124  28-Aug-21  Miércoles       43        $0.00     49.60%          0   \n",
       "125  29-Aug-21    Viernes       42        $0.00     29.03%          0   \n",
       "126  30-Aug-21    Viernes       36        $0.00     49.60%          0   \n",
       "127  31-Aug-21     Sábado       34        $0.00     29.03%          0   \n",
       "\n",
       "       Pronóstico Cambio Porcentual   Vol    A la fecha   ID  \n",
       "0    $235,036.46            -46.48%  1000  $125,789.89     1  \n",
       "1    $197,622.55            -49.72%  1000  $225,163.90     2  \n",
       "2    $116,991.26            -29.74%  1000  $307,367.06     3  \n",
       "3     $66,652.65            -49.69%  1000  $340,897.32     4  \n",
       "4     $34,828.19            -13.56%  1000  $371,002.56     5  \n",
       "..            ...               ...   ...           ...  ...  \n",
       "123        $0.01            -45.07%   100  $752,143.86   124  \n",
       "124        $0.00            -32.94%   100  $752,143.87   125  \n",
       "125        $0.00            -38.06%   100  $752,143.87   126  \n",
       "126        $0.00            -24.58%   100  $752,143.87   127  \n",
       "127        $0.00            -49.77%   100  $752,143.87   128  \n",
       "\n",
       "[128 rows x 11 columns]"
      ]
     },
     "execution_count": 1,
     "metadata": {},
     "output_type": "execute_result"
    }
   ],
   "source": [
    "import pandas as pd\n",
    "\n",
    "# Leer dataset usando el método convencional\n",
    "RUTA = '/Users/miguel/Library/CloudStorage/GoogleDrive-miguel@codificandobits.com/My Drive/02-CODIFICANDOBITS.COM/04-Academia/01-Cursos/23-2024-05-SeriesDeTiempo-Preprocesamiento/data/'\n",
    "dow = pd.read_csv(RUTA + 'dow.csv')\n",
    "dow"
   ]
  },
  {
   "cell_type": "markdown",
   "id": "a10be5b9",
   "metadata": {},
   "source": [
    "En este caso lo que quisiéramos hacer sería fijar la columna \"Fecha\" como índice del *DataFrame* pero que a la vez dicha columna esté en el formato *datetime*.\n",
    "\n",
    "Por defecto, al hacer la lectura usando el método anterior, la columna \"Fecha\" tendrá formato tipo *string*:"
   ]
  },
  {
   "cell_type": "code",
   "execution_count": 2,
   "id": "7994db3c",
   "metadata": {},
   "outputs": [
    {
     "data": {
      "text/plain": [
       "0      26-Apr-21\n",
       "1      27-Apr-21\n",
       "2      28-Apr-21\n",
       "3      29-Apr-21\n",
       "4      30-Apr-21\n",
       "         ...    \n",
       "123    27-Aug-21\n",
       "124    28-Aug-21\n",
       "125    29-Aug-21\n",
       "126    30-Aug-21\n",
       "127    31-Aug-21\n",
       "Name: Fecha, Length: 128, dtype: object"
      ]
     },
     "execution_count": 2,
     "metadata": {},
     "output_type": "execute_result"
    }
   ],
   "source": [
    "dow['Fecha']"
   ]
  },
  {
   "cell_type": "markdown",
   "id": "39e7058c",
   "metadata": {},
   "source": [
    "Para leer correctamente la Serie de Tiempo como un *DataFrame* podemos usar estos dos parámetros:\n",
    "\n",
    "- `parse_dates = ['Fecha']`: para que los elementos de la columna \"Fecha\" sean leídos en el formato *datetime*\n",
    "- `index_col = 'Fecha'`: para fijar la columna \"Fecha\" como índice del *DataFrame*\n",
    "\n",
    "Veamos esta implementación:"
   ]
  },
  {
   "cell_type": "code",
   "execution_count": 3,
   "id": "c8ebf881",
   "metadata": {},
   "outputs": [
    {
     "data": {
      "text/html": [
       "<div>\n",
       "<style scoped>\n",
       "    .dataframe tbody tr th:only-of-type {\n",
       "        vertical-align: middle;\n",
       "    }\n",
       "\n",
       "    .dataframe tbody tr th {\n",
       "        vertical-align: top;\n",
       "    }\n",
       "\n",
       "    .dataframe thead th {\n",
       "        text-align: right;\n",
       "    }\n",
       "</style>\n",
       "<table border=\"1\" class=\"dataframe\">\n",
       "  <thead>\n",
       "    <tr style=\"text-align: right;\">\n",
       "      <th></th>\n",
       "      <th>Día</th>\n",
       "      <th>Ranking</th>\n",
       "      <th>Diario</th>\n",
       "      <th>Variación</th>\n",
       "      <th>Diferencia</th>\n",
       "      <th>Pronóstico</th>\n",
       "      <th>Cambio Porcentual</th>\n",
       "      <th>Vol</th>\n",
       "      <th>A la fecha</th>\n",
       "      <th>ID</th>\n",
       "    </tr>\n",
       "    <tr>\n",
       "      <th>Fecha</th>\n",
       "      <th></th>\n",
       "      <th></th>\n",
       "      <th></th>\n",
       "      <th></th>\n",
       "      <th></th>\n",
       "      <th></th>\n",
       "      <th></th>\n",
       "      <th></th>\n",
       "      <th></th>\n",
       "      <th></th>\n",
       "    </tr>\n",
       "  </thead>\n",
       "  <tbody>\n",
       "    <tr>\n",
       "      <th>2021-04-26</th>\n",
       "      <td>Viernes</td>\n",
       "      <td>1</td>\n",
       "      <td>$125,789.89</td>\n",
       "      <td>NaN</td>\n",
       "      <td>-</td>\n",
       "      <td>$235,036.46</td>\n",
       "      <td>-46.48%</td>\n",
       "      <td>1000</td>\n",
       "      <td>$125,789.89</td>\n",
       "      <td>1</td>\n",
       "    </tr>\n",
       "    <tr>\n",
       "      <th>2021-04-27</th>\n",
       "      <td>Sábado</td>\n",
       "      <td>1</td>\n",
       "      <td>$99,374.01</td>\n",
       "      <td>79.00%</td>\n",
       "      <td>-26416</td>\n",
       "      <td>$197,622.55</td>\n",
       "      <td>-49.72%</td>\n",
       "      <td>1000</td>\n",
       "      <td>$225,163.90</td>\n",
       "      <td>2</td>\n",
       "    </tr>\n",
       "    <tr>\n",
       "      <th>2021-04-28</th>\n",
       "      <td>Domingo</td>\n",
       "      <td>1</td>\n",
       "      <td>$82,203.16</td>\n",
       "      <td>82.72%</td>\n",
       "      <td>-17171</td>\n",
       "      <td>$116,991.26</td>\n",
       "      <td>-29.74%</td>\n",
       "      <td>1000</td>\n",
       "      <td>$307,367.06</td>\n",
       "      <td>3</td>\n",
       "    </tr>\n",
       "    <tr>\n",
       "      <th>2021-04-29</th>\n",
       "      <td>Lunes</td>\n",
       "      <td>1</td>\n",
       "      <td>$33,530.26</td>\n",
       "      <td>40.79%</td>\n",
       "      <td>-48673</td>\n",
       "      <td>$66,652.65</td>\n",
       "      <td>-49.69%</td>\n",
       "      <td>1000</td>\n",
       "      <td>$340,897.32</td>\n",
       "      <td>4</td>\n",
       "    </tr>\n",
       "    <tr>\n",
       "      <th>2021-04-30</th>\n",
       "      <td>Martes</td>\n",
       "      <td>1</td>\n",
       "      <td>$30,105.24</td>\n",
       "      <td>89.79%</td>\n",
       "      <td>-3425</td>\n",
       "      <td>$34,828.19</td>\n",
       "      <td>-13.56%</td>\n",
       "      <td>1000</td>\n",
       "      <td>$371,002.56</td>\n",
       "      <td>5</td>\n",
       "    </tr>\n",
       "    <tr>\n",
       "      <th>...</th>\n",
       "      <td>...</td>\n",
       "      <td>...</td>\n",
       "      <td>...</td>\n",
       "      <td>...</td>\n",
       "      <td>...</td>\n",
       "      <td>...</td>\n",
       "      <td>...</td>\n",
       "      <td>...</td>\n",
       "      <td>...</td>\n",
       "      <td>...</td>\n",
       "    </tr>\n",
       "    <tr>\n",
       "      <th>2021-08-27</th>\n",
       "      <td>Martes</td>\n",
       "      <td>42</td>\n",
       "      <td>$0.00</td>\n",
       "      <td>29.03%</td>\n",
       "      <td>0</td>\n",
       "      <td>$0.01</td>\n",
       "      <td>-45.07%</td>\n",
       "      <td>100</td>\n",
       "      <td>$752,143.86</td>\n",
       "      <td>124</td>\n",
       "    </tr>\n",
       "    <tr>\n",
       "      <th>2021-08-28</th>\n",
       "      <td>Miércoles</td>\n",
       "      <td>43</td>\n",
       "      <td>$0.00</td>\n",
       "      <td>49.60%</td>\n",
       "      <td>0</td>\n",
       "      <td>$0.00</td>\n",
       "      <td>-32.94%</td>\n",
       "      <td>100</td>\n",
       "      <td>$752,143.87</td>\n",
       "      <td>125</td>\n",
       "    </tr>\n",
       "    <tr>\n",
       "      <th>2021-08-29</th>\n",
       "      <td>Viernes</td>\n",
       "      <td>42</td>\n",
       "      <td>$0.00</td>\n",
       "      <td>29.03%</td>\n",
       "      <td>0</td>\n",
       "      <td>$0.00</td>\n",
       "      <td>-38.06%</td>\n",
       "      <td>100</td>\n",
       "      <td>$752,143.87</td>\n",
       "      <td>126</td>\n",
       "    </tr>\n",
       "    <tr>\n",
       "      <th>2021-08-30</th>\n",
       "      <td>Viernes</td>\n",
       "      <td>36</td>\n",
       "      <td>$0.00</td>\n",
       "      <td>49.60%</td>\n",
       "      <td>0</td>\n",
       "      <td>$0.00</td>\n",
       "      <td>-24.58%</td>\n",
       "      <td>100</td>\n",
       "      <td>$752,143.87</td>\n",
       "      <td>127</td>\n",
       "    </tr>\n",
       "    <tr>\n",
       "      <th>2021-08-31</th>\n",
       "      <td>Sábado</td>\n",
       "      <td>34</td>\n",
       "      <td>$0.00</td>\n",
       "      <td>29.03%</td>\n",
       "      <td>0</td>\n",
       "      <td>$0.00</td>\n",
       "      <td>-49.77%</td>\n",
       "      <td>100</td>\n",
       "      <td>$752,143.87</td>\n",
       "      <td>128</td>\n",
       "    </tr>\n",
       "  </tbody>\n",
       "</table>\n",
       "<p>128 rows × 10 columns</p>\n",
       "</div>"
      ],
      "text/plain": [
       "                  Día  Ranking        Diario Variación Diferencia  \\\n",
       "Fecha                                                               \n",
       "2021-04-26    Viernes        1  $125,789.89        NaN          -   \n",
       "2021-04-27     Sábado        1   $99,374.01     79.00%     -26416   \n",
       "2021-04-28    Domingo        1   $82,203.16     82.72%     -17171   \n",
       "2021-04-29      Lunes        1   $33,530.26     40.79%     -48673   \n",
       "2021-04-30     Martes        1   $30,105.24     89.79%      -3425   \n",
       "...               ...      ...           ...       ...        ...   \n",
       "2021-08-27     Martes       42        $0.00     29.03%          0   \n",
       "2021-08-28  Miércoles       43        $0.00     49.60%          0   \n",
       "2021-08-29    Viernes       42        $0.00     29.03%          0   \n",
       "2021-08-30    Viernes       36        $0.00     49.60%          0   \n",
       "2021-08-31     Sábado       34        $0.00     29.03%          0   \n",
       "\n",
       "              Pronóstico Cambio Porcentual   Vol    A la fecha   ID  \n",
       "Fecha                                                                \n",
       "2021-04-26  $235,036.46            -46.48%  1000  $125,789.89     1  \n",
       "2021-04-27  $197,622.55            -49.72%  1000  $225,163.90     2  \n",
       "2021-04-28  $116,991.26            -29.74%  1000  $307,367.06     3  \n",
       "2021-04-29   $66,652.65            -49.69%  1000  $340,897.32     4  \n",
       "2021-04-30   $34,828.19            -13.56%  1000  $371,002.56     5  \n",
       "...                  ...               ...   ...           ...  ...  \n",
       "2021-08-27        $0.01            -45.07%   100  $752,143.86   124  \n",
       "2021-08-28        $0.00            -32.94%   100  $752,143.87   125  \n",
       "2021-08-29        $0.00            -38.06%   100  $752,143.87   126  \n",
       "2021-08-30        $0.00            -24.58%   100  $752,143.87   127  \n",
       "2021-08-31        $0.00            -49.77%   100  $752,143.87   128  \n",
       "\n",
       "[128 rows x 10 columns]"
      ]
     },
     "execution_count": 3,
     "metadata": {},
     "output_type": "execute_result"
    }
   ],
   "source": [
    "# Creación de la serie de tiempo al momento de la lectura\n",
    "dow = pd.read_csv(RUTA + 'dow.csv', \n",
    "                      parse_dates=['Fecha'],\n",
    "                      index_col='Fecha')\n",
    "dow"
   ]
  },
  {
   "cell_type": "markdown",
   "id": "74ba0d72",
   "metadata": {},
   "source": [
    "Y verifiquemos que el índice es de tipo *datetime*:"
   ]
  },
  {
   "cell_type": "code",
   "execution_count": 4,
   "id": "12959a32",
   "metadata": {},
   "outputs": [
    {
     "data": {
      "text/plain": [
       "DatetimeIndex(['2021-04-26', '2021-04-27', '2021-04-28', '2021-04-29',\n",
       "               '2021-04-30', '2021-05-01', '2021-05-02', '2021-05-03',\n",
       "               '2021-05-04', '2021-05-05',\n",
       "               ...\n",
       "               '2021-08-22', '2021-08-23', '2021-08-24', '2021-08-25',\n",
       "               '2021-08-26', '2021-08-27', '2021-08-28', '2021-08-29',\n",
       "               '2021-08-30', '2021-08-31'],\n",
       "              dtype='datetime64[ns]', name='Fecha', length=128, freq=None)"
      ]
     },
     "execution_count": 4,
     "metadata": {},
     "output_type": "execute_result"
    }
   ],
   "source": [
    "dow.index"
   ]
  },
  {
   "cell_type": "markdown",
   "id": "50d8e3b6",
   "metadata": {},
   "source": [
    "¡Perfecto! En este punto ya tenemos un *DataFrame* con varias columnas que representan diferentes series de tiempo.\n",
    "\n",
    "Por ejemplo, podemos leer únicamente las columnas `Diario`, `Pronóstico` y `Cambio Porcentual` como nuestras Series de Tiempo de interés. Para ello usamos el parámetro `usecols`:"
   ]
  },
  {
   "cell_type": "code",
   "execution_count": 5,
   "id": "ea513b82",
   "metadata": {},
   "outputs": [
    {
     "data": {
      "text/html": [
       "<div>\n",
       "<style scoped>\n",
       "    .dataframe tbody tr th:only-of-type {\n",
       "        vertical-align: middle;\n",
       "    }\n",
       "\n",
       "    .dataframe tbody tr th {\n",
       "        vertical-align: top;\n",
       "    }\n",
       "\n",
       "    .dataframe thead th {\n",
       "        text-align: right;\n",
       "    }\n",
       "</style>\n",
       "<table border=\"1\" class=\"dataframe\">\n",
       "  <thead>\n",
       "    <tr style=\"text-align: right;\">\n",
       "      <th></th>\n",
       "      <th>Diario</th>\n",
       "      <th>Pronóstico</th>\n",
       "      <th>Cambio Porcentual</th>\n",
       "    </tr>\n",
       "    <tr>\n",
       "      <th>Fecha</th>\n",
       "      <th></th>\n",
       "      <th></th>\n",
       "      <th></th>\n",
       "    </tr>\n",
       "  </thead>\n",
       "  <tbody>\n",
       "    <tr>\n",
       "      <th>2021-04-26</th>\n",
       "      <td>$125,789.89</td>\n",
       "      <td>$235,036.46</td>\n",
       "      <td>-46.48%</td>\n",
       "    </tr>\n",
       "    <tr>\n",
       "      <th>2021-04-27</th>\n",
       "      <td>$99,374.01</td>\n",
       "      <td>$197,622.55</td>\n",
       "      <td>-49.72%</td>\n",
       "    </tr>\n",
       "    <tr>\n",
       "      <th>2021-04-28</th>\n",
       "      <td>$82,203.16</td>\n",
       "      <td>$116,991.26</td>\n",
       "      <td>-29.74%</td>\n",
       "    </tr>\n",
       "    <tr>\n",
       "      <th>2021-04-29</th>\n",
       "      <td>$33,530.26</td>\n",
       "      <td>$66,652.65</td>\n",
       "      <td>-49.69%</td>\n",
       "    </tr>\n",
       "    <tr>\n",
       "      <th>2021-04-30</th>\n",
       "      <td>$30,105.24</td>\n",
       "      <td>$34,828.19</td>\n",
       "      <td>-13.56%</td>\n",
       "    </tr>\n",
       "    <tr>\n",
       "      <th>...</th>\n",
       "      <td>...</td>\n",
       "      <td>...</td>\n",
       "      <td>...</td>\n",
       "    </tr>\n",
       "    <tr>\n",
       "      <th>2021-08-27</th>\n",
       "      <td>$0.00</td>\n",
       "      <td>$0.01</td>\n",
       "      <td>-45.07%</td>\n",
       "    </tr>\n",
       "    <tr>\n",
       "      <th>2021-08-28</th>\n",
       "      <td>$0.00</td>\n",
       "      <td>$0.00</td>\n",
       "      <td>-32.94%</td>\n",
       "    </tr>\n",
       "    <tr>\n",
       "      <th>2021-08-29</th>\n",
       "      <td>$0.00</td>\n",
       "      <td>$0.00</td>\n",
       "      <td>-38.06%</td>\n",
       "    </tr>\n",
       "    <tr>\n",
       "      <th>2021-08-30</th>\n",
       "      <td>$0.00</td>\n",
       "      <td>$0.00</td>\n",
       "      <td>-24.58%</td>\n",
       "    </tr>\n",
       "    <tr>\n",
       "      <th>2021-08-31</th>\n",
       "      <td>$0.00</td>\n",
       "      <td>$0.00</td>\n",
       "      <td>-49.77%</td>\n",
       "    </tr>\n",
       "  </tbody>\n",
       "</table>\n",
       "<p>128 rows × 3 columns</p>\n",
       "</div>"
      ],
      "text/plain": [
       "                  Diario    Pronóstico Cambio Porcentual\n",
       "Fecha                                                   \n",
       "2021-04-26  $125,789.89   $235,036.46            -46.48%\n",
       "2021-04-27   $99,374.01   $197,622.55            -49.72%\n",
       "2021-04-28   $82,203.16   $116,991.26            -29.74%\n",
       "2021-04-29   $33,530.26    $66,652.65            -49.69%\n",
       "2021-04-30   $30,105.24    $34,828.19            -13.56%\n",
       "...                  ...           ...               ...\n",
       "2021-08-27        $0.00         $0.01            -45.07%\n",
       "2021-08-28        $0.00         $0.00            -32.94%\n",
       "2021-08-29        $0.00         $0.00            -38.06%\n",
       "2021-08-30        $0.00         $0.00            -24.58%\n",
       "2021-08-31        $0.00         $0.00            -49.77%\n",
       "\n",
       "[128 rows x 3 columns]"
      ]
     },
     "execution_count": 5,
     "metadata": {},
     "output_type": "execute_result"
    }
   ],
   "source": [
    "# Leer columnas (series de tiempo) específicas\n",
    "dow = pd.read_csv(RUTA + 'dow.csv', \n",
    "                      parse_dates=['Fecha'],\n",
    "                      index_col='Fecha',\n",
    "                      usecols=['Fecha', 'Diario', 'Pronóstico', 'Cambio Porcentual'])\n",
    "dow"
   ]
  },
  {
   "cell_type": "markdown",
   "id": "20bb8d7a",
   "metadata": {},
   "source": [
    "También, como parte de la lectura, debemos garantizar que las columnas de interés contengan datos numéricos. En este caso las tres columnas leídas no cumplen con este requisito:"
   ]
  },
  {
   "cell_type": "code",
   "execution_count": 6,
   "id": "4c7b5ef3",
   "metadata": {},
   "outputs": [
    {
     "name": "stdout",
     "output_type": "stream",
     "text": [
      "<class 'pandas.core.frame.DataFrame'>\n",
      "DatetimeIndex: 128 entries, 2021-04-26 to 2021-08-31\n",
      "Data columns (total 3 columns):\n",
      " #   Column             Non-Null Count  Dtype \n",
      "---  ------             --------------  ----- \n",
      " 0   Diario             128 non-null    object\n",
      " 1   Pronóstico         128 non-null    object\n",
      " 2   Cambio Porcentual  128 non-null    object\n",
      "dtypes: object(3)\n",
      "memory usage: 4.0+ KB\n"
     ]
    }
   ],
   "source": [
    "dow.info()"
   ]
  },
  {
   "cell_type": "markdown",
   "id": "a41e2f9c",
   "metadata": {},
   "source": [
    "Así que debemos realizar algo de limpieza sobre estas columnas para obtener de cada una una representación numérica.\n",
    "\n",
    "Por ejemplo, podemos eliminar el símbolo \"$\" y convertir a formato *float* las columnas `Diario` y `Pronóstico`. Para ello podemos usar funciones lambda y la función `apply()` (ver lección 9 del curso \"Pandas Nivel Básico\"):<"
   ]
  },
  {
   "cell_type": "code",
   "execution_count": 7,
   "id": "8caeed94",
   "metadata": {},
   "outputs": [
    {
     "data": {
      "text/html": [
       "<div>\n",
       "<style scoped>\n",
       "    .dataframe tbody tr th:only-of-type {\n",
       "        vertical-align: middle;\n",
       "    }\n",
       "\n",
       "    .dataframe tbody tr th {\n",
       "        vertical-align: top;\n",
       "    }\n",
       "\n",
       "    .dataframe thead th {\n",
       "        text-align: right;\n",
       "    }\n",
       "</style>\n",
       "<table border=\"1\" class=\"dataframe\">\n",
       "  <thead>\n",
       "    <tr style=\"text-align: right;\">\n",
       "      <th></th>\n",
       "      <th>Diario</th>\n",
       "      <th>Pronóstico</th>\n",
       "      <th>Cambio Porcentual</th>\n",
       "    </tr>\n",
       "    <tr>\n",
       "      <th>Fecha</th>\n",
       "      <th></th>\n",
       "      <th></th>\n",
       "      <th></th>\n",
       "    </tr>\n",
       "  </thead>\n",
       "  <tbody>\n",
       "    <tr>\n",
       "      <th>2021-04-26</th>\n",
       "      <td>12578989.0</td>\n",
       "      <td>23503646.0</td>\n",
       "      <td>-46.48%</td>\n",
       "    </tr>\n",
       "    <tr>\n",
       "      <th>2021-04-27</th>\n",
       "      <td>9937401.0</td>\n",
       "      <td>19762255.0</td>\n",
       "      <td>-49.72%</td>\n",
       "    </tr>\n",
       "    <tr>\n",
       "      <th>2021-04-28</th>\n",
       "      <td>8220316.0</td>\n",
       "      <td>11699126.0</td>\n",
       "      <td>-29.74%</td>\n",
       "    </tr>\n",
       "    <tr>\n",
       "      <th>2021-04-29</th>\n",
       "      <td>3353026.0</td>\n",
       "      <td>6665265.0</td>\n",
       "      <td>-49.69%</td>\n",
       "    </tr>\n",
       "    <tr>\n",
       "      <th>2021-04-30</th>\n",
       "      <td>3010524.0</td>\n",
       "      <td>3482819.0</td>\n",
       "      <td>-13.56%</td>\n",
       "    </tr>\n",
       "    <tr>\n",
       "      <th>...</th>\n",
       "      <td>...</td>\n",
       "      <td>...</td>\n",
       "      <td>...</td>\n",
       "    </tr>\n",
       "    <tr>\n",
       "      <th>2021-08-27</th>\n",
       "      <td>0.0</td>\n",
       "      <td>1.0</td>\n",
       "      <td>-45.07%</td>\n",
       "    </tr>\n",
       "    <tr>\n",
       "      <th>2021-08-28</th>\n",
       "      <td>0.0</td>\n",
       "      <td>0.0</td>\n",
       "      <td>-32.94%</td>\n",
       "    </tr>\n",
       "    <tr>\n",
       "      <th>2021-08-29</th>\n",
       "      <td>0.0</td>\n",
       "      <td>0.0</td>\n",
       "      <td>-38.06%</td>\n",
       "    </tr>\n",
       "    <tr>\n",
       "      <th>2021-08-30</th>\n",
       "      <td>0.0</td>\n",
       "      <td>0.0</td>\n",
       "      <td>-24.58%</td>\n",
       "    </tr>\n",
       "    <tr>\n",
       "      <th>2021-08-31</th>\n",
       "      <td>0.0</td>\n",
       "      <td>0.0</td>\n",
       "      <td>-49.77%</td>\n",
       "    </tr>\n",
       "  </tbody>\n",
       "</table>\n",
       "<p>128 rows × 3 columns</p>\n",
       "</div>"
      ],
      "text/plain": [
       "                Diario  Pronóstico Cambio Porcentual\n",
       "Fecha                                               \n",
       "2021-04-26  12578989.0  23503646.0           -46.48%\n",
       "2021-04-27   9937401.0  19762255.0           -49.72%\n",
       "2021-04-28   8220316.0  11699126.0           -29.74%\n",
       "2021-04-29   3353026.0   6665265.0           -49.69%\n",
       "2021-04-30   3010524.0   3482819.0           -13.56%\n",
       "...                ...         ...               ...\n",
       "2021-08-27         0.0         1.0           -45.07%\n",
       "2021-08-28         0.0         0.0           -32.94%\n",
       "2021-08-29         0.0         0.0           -38.06%\n",
       "2021-08-30         0.0         0.0           -24.58%\n",
       "2021-08-31         0.0         0.0           -49.77%\n",
       "\n",
       "[128 rows x 3 columns]"
      ]
     },
     "execution_count": 7,
     "metadata": {},
     "output_type": "execute_result"
    }
   ],
   "source": [
    "limpiar = lambda x: x.str.replace('[^\\d]', '', regex=True)  # [^\\d]: buscar caracteres no numéricos\n",
    "dow_c = dow[['Diario', 'Pronóstico']].apply(limpiar, axis=1)# Aplicar función anterior\n",
    "dow[['Diario', 'Pronóstico']] = dow_c.astype(float)         # Reemplazar columnas originales por columnas procesadas\n",
    "dow"
   ]
  },
  {
   "cell_type": "code",
   "execution_count": 8,
   "id": "6f1a9bc5",
   "metadata": {},
   "outputs": [
    {
     "name": "stdout",
     "output_type": "stream",
     "text": [
      "<class 'pandas.core.frame.DataFrame'>\n",
      "DatetimeIndex: 128 entries, 2021-04-26 to 2021-08-31\n",
      "Data columns (total 3 columns):\n",
      " #   Column             Non-Null Count  Dtype  \n",
      "---  ------             --------------  -----  \n",
      " 0   Diario             128 non-null    float64\n",
      " 1   Pronóstico         128 non-null    float64\n",
      " 2   Cambio Porcentual  128 non-null    object \n",
      "dtypes: float64(2), object(1)\n",
      "memory usage: 4.0+ KB\n"
     ]
    }
   ],
   "source": [
    "dow.info()"
   ]
  },
  {
   "cell_type": "markdown",
   "id": "5e573ae2",
   "metadata": {},
   "source": [
    "Y también podemos hacer algo similar pero para eliminar el símbolo \"%\" en el caso de la columna \"Cambio Porcentual\":"
   ]
  },
  {
   "cell_type": "code",
   "execution_count": 9,
   "id": "bebe0a87",
   "metadata": {},
   "outputs": [
    {
     "data": {
      "text/html": [
       "<div>\n",
       "<style scoped>\n",
       "    .dataframe tbody tr th:only-of-type {\n",
       "        vertical-align: middle;\n",
       "    }\n",
       "\n",
       "    .dataframe tbody tr th {\n",
       "        vertical-align: top;\n",
       "    }\n",
       "\n",
       "    .dataframe thead th {\n",
       "        text-align: right;\n",
       "    }\n",
       "</style>\n",
       "<table border=\"1\" class=\"dataframe\">\n",
       "  <thead>\n",
       "    <tr style=\"text-align: right;\">\n",
       "      <th></th>\n",
       "      <th>Diario</th>\n",
       "      <th>Pronóstico</th>\n",
       "      <th>Cambio Porcentual</th>\n",
       "    </tr>\n",
       "    <tr>\n",
       "      <th>Fecha</th>\n",
       "      <th></th>\n",
       "      <th></th>\n",
       "      <th></th>\n",
       "    </tr>\n",
       "  </thead>\n",
       "  <tbody>\n",
       "    <tr>\n",
       "      <th>2021-04-26</th>\n",
       "      <td>12578989.0</td>\n",
       "      <td>23503646.0</td>\n",
       "      <td>-46.48</td>\n",
       "    </tr>\n",
       "    <tr>\n",
       "      <th>2021-04-27</th>\n",
       "      <td>9937401.0</td>\n",
       "      <td>19762255.0</td>\n",
       "      <td>-49.72</td>\n",
       "    </tr>\n",
       "    <tr>\n",
       "      <th>2021-04-28</th>\n",
       "      <td>8220316.0</td>\n",
       "      <td>11699126.0</td>\n",
       "      <td>-29.74</td>\n",
       "    </tr>\n",
       "    <tr>\n",
       "      <th>2021-04-29</th>\n",
       "      <td>3353026.0</td>\n",
       "      <td>6665265.0</td>\n",
       "      <td>-49.69</td>\n",
       "    </tr>\n",
       "    <tr>\n",
       "      <th>2021-04-30</th>\n",
       "      <td>3010524.0</td>\n",
       "      <td>3482819.0</td>\n",
       "      <td>-13.56</td>\n",
       "    </tr>\n",
       "    <tr>\n",
       "      <th>...</th>\n",
       "      <td>...</td>\n",
       "      <td>...</td>\n",
       "      <td>...</td>\n",
       "    </tr>\n",
       "    <tr>\n",
       "      <th>2021-08-27</th>\n",
       "      <td>0.0</td>\n",
       "      <td>1.0</td>\n",
       "      <td>-45.07</td>\n",
       "    </tr>\n",
       "    <tr>\n",
       "      <th>2021-08-28</th>\n",
       "      <td>0.0</td>\n",
       "      <td>0.0</td>\n",
       "      <td>-32.94</td>\n",
       "    </tr>\n",
       "    <tr>\n",
       "      <th>2021-08-29</th>\n",
       "      <td>0.0</td>\n",
       "      <td>0.0</td>\n",
       "      <td>-38.06</td>\n",
       "    </tr>\n",
       "    <tr>\n",
       "      <th>2021-08-30</th>\n",
       "      <td>0.0</td>\n",
       "      <td>0.0</td>\n",
       "      <td>-24.58</td>\n",
       "    </tr>\n",
       "    <tr>\n",
       "      <th>2021-08-31</th>\n",
       "      <td>0.0</td>\n",
       "      <td>0.0</td>\n",
       "      <td>-49.77</td>\n",
       "    </tr>\n",
       "  </tbody>\n",
       "</table>\n",
       "<p>128 rows × 3 columns</p>\n",
       "</div>"
      ],
      "text/plain": [
       "                Diario  Pronóstico  Cambio Porcentual\n",
       "Fecha                                                \n",
       "2021-04-26  12578989.0  23503646.0             -46.48\n",
       "2021-04-27   9937401.0  19762255.0             -49.72\n",
       "2021-04-28   8220316.0  11699126.0             -29.74\n",
       "2021-04-29   3353026.0   6665265.0             -49.69\n",
       "2021-04-30   3010524.0   3482819.0             -13.56\n",
       "...                ...         ...                ...\n",
       "2021-08-27         0.0         1.0             -45.07\n",
       "2021-08-28         0.0         0.0             -32.94\n",
       "2021-08-29         0.0         0.0             -38.06\n",
       "2021-08-30         0.0         0.0             -24.58\n",
       "2021-08-31         0.0         0.0             -49.77\n",
       "\n",
       "[128 rows x 3 columns]"
      ]
     },
     "execution_count": 9,
     "metadata": {},
     "output_type": "execute_result"
    }
   ],
   "source": [
    "# Remover porcentaje \n",
    "dow['Cambio Porcentual'] = dow['Cambio Porcentual'].apply(lambda x: x.replace('%', '')).astype(float)\n",
    "dow"
   ]
  },
  {
   "cell_type": "markdown",
   "id": "f2ea381c",
   "metadata": {},
   "source": [
    "Y con esto ya tenemos listas nuestras Series de Tiempo:"
   ]
  },
  {
   "cell_type": "code",
   "execution_count": 10,
   "id": "ce471fd0",
   "metadata": {},
   "outputs": [
    {
     "name": "stdout",
     "output_type": "stream",
     "text": [
      "<class 'pandas.core.frame.DataFrame'>\n",
      "DatetimeIndex: 128 entries, 2021-04-26 to 2021-08-31\n",
      "Data columns (total 3 columns):\n",
      " #   Column             Non-Null Count  Dtype  \n",
      "---  ------             --------------  -----  \n",
      " 0   Diario             128 non-null    float64\n",
      " 1   Pronóstico         128 non-null    float64\n",
      " 2   Cambio Porcentual  128 non-null    float64\n",
      "dtypes: float64(3)\n",
      "memory usage: 4.0 KB\n"
     ]
    }
   ],
   "source": [
    "dow.info()"
   ]
  },
  {
   "cell_type": "markdown",
   "id": "0cd4a5ee",
   "metadata": {},
   "source": [
    "## 2. Visualización con Series de Tiempo\n",
    "\n",
    "Las dos maneras más sencillas de realizar esta visualización son: usando la librería Seaborn (método recomendado) o el método `plot()` de la librería Pandas.\n",
    "\n",
    "Veamos cómo visualizar las Series de Tiempo que acabamos de leer usando Seaborn:"
   ]
  },
  {
   "cell_type": "code",
   "execution_count": 11,
   "id": "b1bb792c",
   "metadata": {},
   "outputs": [
    {
     "data": {
      "image/png": "[encoded data removed]",
      "text/plain": [
       "<Figure size 640x480 with 1 Axes>"
      ]
     },
     "metadata": {},
     "output_type": "display_data"
    }
   ],
   "source": [
    "# Importar Seaborn y Matplotlib\n",
    "import seaborn as sns\n",
    "import matplotlib.pyplot as plt\n",
    "\n",
    "# Generar gráfico de todas las Series de Tiempo usando \"lineplot\"\n",
    "ax = sns.lineplot(dow)"
   ]
  },
  {
   "cell_type": "code",
   "execution_count": 12,
   "id": "b79ddd97",
   "metadata": {},
   "outputs": [
    {
     "data": {
      "image/png": "[encoded data removed]",
      "text/plain": [
       "<Figure size 640x480 with 1 Axes>"
      ]
     },
     "metadata": {},
     "output_type": "display_data"
    }
   ],
   "source": [
    "# Y rotar las etiquetas 45°\n",
    "ax = sns.lineplot(dow)\n",
    "plt.xticks(rotation=45);"
   ]
  },
  {
   "cell_type": "markdown",
   "id": "b7aa96ec",
   "metadata": {},
   "source": [
    "Si queremos dibujar sólo una de las Series simplemente seleccionamos la columnas de interés:"
   ]
  },
  {
   "cell_type": "code",
   "execution_count": 13,
   "id": "8af86b2e",
   "metadata": {},
   "outputs": [
    {
     "data": {
      "image/png": "[encoded data removed]",
      "text/plain": [
       "<Figure size 640x480 with 1 Axes>"
      ]
     },
     "metadata": {},
     "output_type": "display_data"
    }
   ],
   "source": [
    "# Dibujar sólo una de las series\n",
    "ax = sns.lineplot(dow['Diario'])\n",
    "plt.xticks(rotation=45);"
   ]
  },
  {
   "cell_type": "markdown",
   "id": "b174dbe2",
   "metadata": {},
   "source": [
    "Y podemos usar herramientas adicionales de Matplotlib para modificar por ejemplo las etiquetas del eje horizontal (variable tiempo).\n",
    "\n",
    "Por ejemplo, hagamos uso de `mdates` de Matplotlib para mostrar sólo el mes y el día en las marcas de tiempo:"
   ]
  },
  {
   "cell_type": "code",
   "execution_count": 14,
   "id": "74cee1fe",
   "metadata": {},
   "outputs": [
    {
     "data": {
      "image/png": "[encoded data removed]",
      "text/plain": [
       "<Figure size 640x480 with 1 Axes>"
      ]
     },
     "metadata": {},
     "output_type": "display_data"
    }
   ],
   "source": [
    "# Mostrar sólo mes-día (no año)\n",
    "import matplotlib.dates as mdates\n",
    "\n",
    "# Generemos el gráfico anterior\n",
    "ax = sns.lineplot(data=dow['Diario'])\n",
    "\n",
    "# Y ahora usemos \"DateFormatter\" para especificar el formato con el que queremos mostrar\n",
    "# las marcas de tiempo\n",
    "ax.xaxis.set_major_formatter(mdates.DateFormatter('%m-%d'))\n",
    "\n",
    "# Y finalmente rotemos las etiquetas\n",
    "plt.xticks(rotation=45);"
   ]
  },
  {
   "cell_type": "markdown",
   "id": "7fa194f1",
   "metadata": {},
   "source": [
    "También podemos modificar la sintaxis de `DateFormatter` para mostrar las iniciales del mes en lugar del número:"
   ]
  },
  {
   "cell_type": "code",
   "execution_count": 15,
   "id": "d9805c34",
   "metadata": {},
   "outputs": [
    {
     "data": {
      "image/png": "[encoded data removed]",
      "text/plain": [
       "<Figure size 640x480 with 1 Axes>"
      ]
     },
     "metadata": {},
     "output_type": "display_data"
    }
   ],
   "source": [
    "# En lugar del númnero del mes mostrar sus iniciales\n",
    "ax = sns.lineplot(data=dow['Diario'])\n",
    "\n",
    "# Y ahora usemos \"DateFormatter\" para especificar el formato con el que queremos mostrar\n",
    "# las marcas de tiempo\n",
    "ax.xaxis.set_major_formatter(mdates.DateFormatter('%b-%d'))\n",
    "\n",
    "# Y finalmente rotemos las etiquetas\n",
    "plt.xticks(rotation=45);"
   ]
  },
  {
   "cell_type": "markdown",
   "id": "0da44d45",
   "metadata": {},
   "source": [
    "Y otra alternativa a los métodos anteriores es usando el método `plot()` de la librería Pandas:"
   ]
  },
  {
   "cell_type": "code",
   "execution_count": 16,
   "id": "d97252d9",
   "metadata": {},
   "outputs": [
    {
     "data": {
      "image/png": "[encoded data removed]",
      "text/plain": [
       "<Figure size 640x480 with 1 Axes>"
      ]
     },
     "metadata": {},
     "output_type": "display_data"
    }
   ],
   "source": [
    "# Usando Herramientas propias de pandas\n",
    "dow.plot();"
   ]
  },
  {
   "cell_type": "markdown",
   "id": "1f7232ff",
   "metadata": {},
   "source": [
    "Y de forma similar al caso anterior, podemos seleccionar sólo una columna (Serie de Tiempo) a dibujar y usar `mdates` para modificar las marcas de tiempo:"
   ]
  },
  {
   "cell_type": "code",
   "execution_count": 17,
   "id": "e5f8e475",
   "metadata": {},
   "outputs": [
    {
     "data": {
      "image/png": "[encoded data removed]",
      "text/plain": [
       "<Figure size 640x480 with 1 Axes>"
      ]
     },
     "metadata": {},
     "output_type": "display_data"
    }
   ],
   "source": [
    "# Mostrar Serie de Tiempo \"Pronóstico\"\n",
    "ax = dow['Pronóstico'].plot();\n",
    "\n",
    "# Mostrar cada marca de tiempo como las iniciales del mes y el día\n",
    "ax.xaxis.set_major_formatter(mdates.DateFormatter('%b-%d'))\n",
    "\n",
    "# Usemos \"DayLocator\" y el parámetro \"interval\" para especificar que las marcas de tiempo\n",
    "# se mostrarán con periodicidad de 1 mes\n",
    "ax.xaxis.set_major_locator(mdates.MonthLocator())\n",
    "\n",
    "# Y finalmente rotemos las etiquetas\n",
    "plt.xticks(rotation=45);"
   ]
  },
  {
   "cell_type": "code",
   "execution_count": null,
   "id": "184636cc",
   "metadata": {},
   "outputs": [],
   "source": []
  }
 ],
 "metadata": {
  "kernelspec": {
   "display_name": "Python 3 (ipykernel)",
   "language": "python",
   "name": "python3"
  },
  "language_info": {
   "codemirror_mode": {
    "name": "ipython",
    "version": 3
   },
   "file_extension": ".py",
   "mimetype": "text/x-python",
   "name": "python",
   "nbconvert_exporter": "python",
   "pygments_lexer": "ipython3",
   "version": "3.11.2"
  }
 },
 "nbformat": 4,
 "nbformat_minor": 5
}
